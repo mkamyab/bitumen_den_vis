{
 "cells": [
  {
   "cell_type": "markdown",
   "metadata": {},
   "source": [
    "<h1> Density Prediction </h1>"
   ]
  },
  {
   "cell_type": "code",
   "execution_count": 1,
   "metadata": {},
   "outputs": [],
   "source": [
    "import copy\n",
    "\n",
    "import matplotlib.pyplot as plt\n",
    "import numpy as np\n",
    "import pandas as pd\n",
    "import plotly.graph_objects as go\n",
    "import seaborn as sns\n",
    "\n",
    "from collections import Counter\n",
    "\n",
    "from matplotlib import pyplot\n",
    "\n",
    "from sklearn import metrics\n",
    "from sklearn import preprocessing\n",
    "from sklearn import utils\n",
    "from sklearn.inspection import permutation_importance\n",
    "from sklearn.metrics import accuracy_score, mean_squared_error, r2_score\n",
    "from sklearn.model_selection import train_test_split, learning_curve, cross_validate, cross_val_score, StratifiedShuffleSplit, RepeatedKFold, GridSearchCV, RandomizedSearchCV\n",
    "from sklearn.preprocessing import PolynomialFeatures\n",
    "\n",
    "%matplotlib inline\n",
    "\n",
    "title_font = {'fontname':'Times New Roman', 'size':'16', 'color':'black', 'weight':'normal',\n",
    "              'verticalalignment':'bottom'}\n",
    "axis_font = {'fontname':'Times New Roman', 'size':'12'}"
   ]
  },
  {
   "cell_type": "markdown",
   "metadata": {},
   "source": [
    "<h2> Reading Data </h2>"
   ]
  },
  {
   "cell_type": "code",
   "execution_count": 2,
   "metadata": {},
   "outputs": [
    {
     "data": {
      "text/html": [
       "<div>\n",
       "<style scoped>\n",
       "    .dataframe tbody tr th:only-of-type {\n",
       "        vertical-align: middle;\n",
       "    }\n",
       "\n",
       "    .dataframe tbody tr th {\n",
       "        vertical-align: top;\n",
       "    }\n",
       "\n",
       "    .dataframe thead th {\n",
       "        text-align: right;\n",
       "    }\n",
       "</style>\n",
       "<table border=\"1\" class=\"dataframe\">\n",
       "  <thead>\n",
       "    <tr style=\"text-align: right;\">\n",
       "      <th></th>\n",
       "      <th>IBP</th>\n",
       "      <th>MW</th>\n",
       "      <th>T</th>\n",
       "      <th>P</th>\n",
       "      <th>Density</th>\n",
       "    </tr>\n",
       "  </thead>\n",
       "  <tbody>\n",
       "    <tr>\n",
       "      <th>0</th>\n",
       "      <td>192.4</td>\n",
       "      <td>539.2</td>\n",
       "      <td>190.0</td>\n",
       "      <td>2.01</td>\n",
       "      <td>907.6</td>\n",
       "    </tr>\n",
       "    <tr>\n",
       "      <th>1</th>\n",
       "      <td>192.4</td>\n",
       "      <td>539.2</td>\n",
       "      <td>174.6</td>\n",
       "      <td>2.01</td>\n",
       "      <td>917.3</td>\n",
       "    </tr>\n",
       "    <tr>\n",
       "      <th>2</th>\n",
       "      <td>192.4</td>\n",
       "      <td>539.2</td>\n",
       "      <td>150.3</td>\n",
       "      <td>2.02</td>\n",
       "      <td>932.7</td>\n",
       "    </tr>\n",
       "    <tr>\n",
       "      <th>3</th>\n",
       "      <td>192.4</td>\n",
       "      <td>539.2</td>\n",
       "      <td>125.0</td>\n",
       "      <td>1.99</td>\n",
       "      <td>947.9</td>\n",
       "    </tr>\n",
       "    <tr>\n",
       "      <th>4</th>\n",
       "      <td>192.4</td>\n",
       "      <td>539.2</td>\n",
       "      <td>100.6</td>\n",
       "      <td>2.02</td>\n",
       "      <td>962.6</td>\n",
       "    </tr>\n",
       "  </tbody>\n",
       "</table>\n",
       "</div>"
      ],
      "text/plain": [
       "     IBP     MW      T     P  Density\n",
       "0  192.4  539.2  190.0  2.01    907.6\n",
       "1  192.4  539.2  174.6  2.01    917.3\n",
       "2  192.4  539.2  150.3  2.02    932.7\n",
       "3  192.4  539.2  125.0  1.99    947.9\n",
       "4  192.4  539.2  100.6  2.02    962.6"
      ]
     },
     "metadata": {},
     "output_type": "display_data"
    }
   ],
   "source": [
    "density_df = pd.read_csv('DensityData.csv')\n",
    "display(density_df.head())"
   ]
  },
  {
   "cell_type": "code",
   "execution_count": 3,
   "metadata": {
    "scrolled": true
   },
   "outputs": [
    {
     "name": "stdout",
     "output_type": "stream",
     "text": [
      "Size of featuers:(189, 2)\n",
      "Size of targets:(189,)\n"
     ]
    },
    {
     "data": {
      "text/html": [
       "<div>\n",
       "<style scoped>\n",
       "    .dataframe tbody tr th:only-of-type {\n",
       "        vertical-align: middle;\n",
       "    }\n",
       "\n",
       "    .dataframe tbody tr th {\n",
       "        vertical-align: top;\n",
       "    }\n",
       "\n",
       "    .dataframe thead th {\n",
       "        text-align: right;\n",
       "    }\n",
       "</style>\n",
       "<table border=\"1\" class=\"dataframe\">\n",
       "  <thead>\n",
       "    <tr style=\"text-align: right;\">\n",
       "      <th></th>\n",
       "      <th>T</th>\n",
       "      <th>P</th>\n",
       "    </tr>\n",
       "  </thead>\n",
       "  <tbody>\n",
       "    <tr>\n",
       "      <th>count</th>\n",
       "      <td>189.000000</td>\n",
       "      <td>189.000000</td>\n",
       "    </tr>\n",
       "    <tr>\n",
       "      <th>mean</th>\n",
       "      <td>105.955026</td>\n",
       "      <td>6.766243</td>\n",
       "    </tr>\n",
       "    <tr>\n",
       "      <th>std</th>\n",
       "      <td>42.777633</td>\n",
       "      <td>4.176181</td>\n",
       "    </tr>\n",
       "    <tr>\n",
       "      <th>min</th>\n",
       "      <td>23.000000</td>\n",
       "      <td>0.920000</td>\n",
       "    </tr>\n",
       "    <tr>\n",
       "      <th>25%</th>\n",
       "      <td>70.000000</td>\n",
       "      <td>3.410000</td>\n",
       "    </tr>\n",
       "    <tr>\n",
       "      <th>50%</th>\n",
       "      <td>100.600000</td>\n",
       "      <td>6.870000</td>\n",
       "    </tr>\n",
       "    <tr>\n",
       "      <th>75%</th>\n",
       "      <td>140.000000</td>\n",
       "      <td>10.310000</td>\n",
       "    </tr>\n",
       "    <tr>\n",
       "      <th>max</th>\n",
       "      <td>190.000000</td>\n",
       "      <td>13.880000</td>\n",
       "    </tr>\n",
       "  </tbody>\n",
       "</table>\n",
       "</div>"
      ],
      "text/plain": [
       "                T           P\n",
       "count  189.000000  189.000000\n",
       "mean   105.955026    6.766243\n",
       "std     42.777633    4.176181\n",
       "min     23.000000    0.920000\n",
       "25%     70.000000    3.410000\n",
       "50%    100.600000    6.870000\n",
       "75%    140.000000   10.310000\n",
       "max    190.000000   13.880000"
      ]
     },
     "execution_count": 3,
     "metadata": {},
     "output_type": "execute_result"
    }
   ],
   "source": [
    "input_cols = ['T', 'P']\n",
    "X = density_df[input_cols]\n",
    "y = density_df.Density\n",
    "print(f\"Size of featuers:{X.shape}\\nSize of targets:{y.shape}\")\n",
    "\n",
    "X.columns\n",
    "X.describe()"
   ]
  },
  {
   "cell_type": "markdown",
   "metadata": {},
   "source": [
    "### Plotting the data"
   ]
  },
  {
   "cell_type": "code",
   "execution_count": 4,
   "metadata": {},
   "outputs": [
    {
     "name": "stderr",
     "output_type": "stream",
     "text": [
      "C:\\Users\\mo_co\\AppData\\Roaming\\Python\\Python39\\site-packages\\seaborn\\distributions.py:2619: FutureWarning: `distplot` is a deprecated function and will be removed in a future version. Please adapt your code to use either `displot` (a figure-level function with similar flexibility) or `histplot` (an axes-level function for histograms).\n",
      "  warnings.warn(msg, FutureWarning)\n"
     ]
    },
    {
     "data": {
      "image/png": "[encoded data removed]",
      "text/plain": [
       "<Figure size 432x288 with 1 Axes>"
      ]
     },
     "metadata": {
      "needs_background": "light"
     },
     "output_type": "display_data"
    }
   ],
   "source": [
    "a = sns.distplot(density_df[\"Density\"], hist=True, hist_kws={\"edgecolor\": 'w', \"linewidth\": 3}, kde_kws={\"linewidth\": 3})"
   ]
  },
  {
   "cell_type": "markdown",
   "metadata": {},
   "source": [
    "The above plot is a distrubtion for the density data. This plot shows that the majority of the density data used in this code is between 920 and 1000 (Kg/m^3). "
   ]
  },
  {
   "cell_type": "markdown",
   "metadata": {},
   "source": [
    "### Outlier detection"
   ]
  },
  {
   "cell_type": "code",
   "execution_count": 5,
   "metadata": {},
   "outputs": [],
   "source": [
    "# Tukey method (Tukey JW., 1977) used to detect the outliers\n",
    "\n",
    "def detect_outliers(df: pd.DataFrame, min_outliers, features):\n",
    "   \n",
    "    outlier_indices = []\n",
    "    \n",
    "    for col in features:\n",
    "        # 1st quartile (25%)\n",
    "        Q1 = np.percentile(df[col], 25)\n",
    "        # 3rd quartile (75%)\n",
    "        Q3 = np.percentile(df[col], 75)\n",
    "        # Interquartile range (IQR)\n",
    "        IQR = Q3 - Q1\n",
    "        \n",
    "        # outlier step\n",
    "        outlier_step = 1.5 * IQR\n",
    "        \n",
    "        \n",
    "        outlier_list_col = df[(df[col] < Q1 - outlier_step) | (df[col] > Q3 + outlier_step )].index\n",
    "        \n",
    "     \n",
    "        outlier_indices.extend(outlier_list_col)\n",
    "\n",
    "        \n",
    "    # select row containing any outliers  \n",
    "    outlier_indices = Counter(outlier_indices)\n",
    "    multiple_outliers = list(k for k, v in outlier_indices.items() if v > min_outliers)\n",
    "    \n",
    "    return multiple_outliers"
   ]
  },
  {
   "cell_type": "code",
   "execution_count": 6,
   "metadata": {},
   "outputs": [
    {
     "data": {
      "text/html": [
       "<div>\n",
       "<style scoped>\n",
       "    .dataframe tbody tr th:only-of-type {\n",
       "        vertical-align: middle;\n",
       "    }\n",
       "\n",
       "    .dataframe tbody tr th {\n",
       "        vertical-align: top;\n",
       "    }\n",
       "\n",
       "    .dataframe thead th {\n",
       "        text-align: right;\n",
       "    }\n",
       "</style>\n",
       "<table border=\"1\" class=\"dataframe\">\n",
       "  <thead>\n",
       "    <tr style=\"text-align: right;\">\n",
       "      <th></th>\n",
       "      <th>IBP</th>\n",
       "      <th>MW</th>\n",
       "      <th>T</th>\n",
       "      <th>P</th>\n",
       "      <th>Density</th>\n",
       "    </tr>\n",
       "  </thead>\n",
       "  <tbody>\n",
       "  </tbody>\n",
       "</table>\n",
       "</div>"
      ],
      "text/plain": [
       "Empty DataFrame\n",
       "Columns: [IBP, MW, T, P, Density]\n",
       "Index: []"
      ]
     },
     "execution_count": 6,
     "metadata": {},
     "output_type": "execute_result"
    }
   ],
   "source": [
    "#outliers detected based on T and P numerical values \n",
    "outliers_to_drop = detect_outliers(density_df, 0, [\"T\",\"P\"])\n",
    "density_df.loc[outliers_to_drop] "
   ]
  },
  {
   "cell_type": "markdown",
   "metadata": {},
   "source": [
    "No outlier has been detected on the dataset. "
   ]
  },
  {
   "cell_type": "markdown",
   "metadata": {},
   "source": [
    "## Model Training \n",
    "### Importing the regressors"
   ]
  },
  {
   "cell_type": "code",
   "execution_count": 7,
   "metadata": {},
   "outputs": [],
   "source": [
    "from sklearn.ensemble import RandomForestRegressor, AdaBoostRegressor, GradientBoostingRegressor, ExtraTreesRegressor\n",
    "from sklearn.linear_model import LinearRegression\n",
    "from sklearn.svm import SVR\n",
    "from sklearn.tree import DecisionTreeRegressor"
   ]
  },
  {
   "cell_type": "code",
   "execution_count": 8,
   "metadata": {},
   "outputs": [],
   "source": [
    "random_state = 2\n",
    "regressors = []\n",
    "regressors.append(SVR())\n",
    "regressors.append(AdaBoostRegressor(DecisionTreeRegressor(random_state=random_state),random_state=random_state, learning_rate=0.1))\n",
    "regressors.append(RandomForestRegressor(random_state=random_state))\n",
    "regressors.append(ExtraTreesRegressor(random_state=random_state))\n",
    "regressors.append(LinearRegression())"
   ]
  },
  {
   "cell_type": "markdown",
   "metadata": {},
   "source": [
    "### Splitting the Dataset"
   ]
  },
  {
   "cell_type": "code",
   "execution_count": 9,
   "metadata": {},
   "outputs": [
    {
     "name": "stdout",
     "output_type": "stream",
     "text": [
      "Size of X_train:(160, 2)\n",
      "Size of X_test:(29, 2)\n",
      "Size of y_train:(160,)\n",
      "Size of y_test:(29,)\n"
     ]
    }
   ],
   "source": [
    "# Splitting the dataset into 85% of training data and 15% testing data \n",
    "X_train, X_test, y_train, y_test = train_test_split(X, y, train_size=0.85)\n",
    "print(f\"Size of X_train:{X_train.shape}\\nSize of X_test:{X_test.shape}\")\n",
    "print(f\"Size of y_train:{y_train.shape}\\nSize of y_test:{y_test.shape}\")"
   ]
  },
  {
   "cell_type": "code",
   "execution_count": 10,
   "metadata": {},
   "outputs": [],
   "source": [
    "# Fitting Polynomial regression (degree 2) to the dataset \n",
    "poly_reg = PolynomialFeatures(degree=2, include_bias=False)\n",
    "X_poly_train = poly_reg.fit_transform(X_train)\n",
    "X_poly_test= poly_reg.transform(X_test)\n",
    "X_poly= poly_reg.transform(X)"
   ]
  },
  {
   "cell_type": "markdown",
   "metadata": {},
   "source": [
    "The new input is created for polynomial regression to generate all polynomial combination of features equivalent to the degree of the polynomial specified. The new input is created based on X_train to fit the degree 2 polynomial.  "
   ]
  },
  {
   "cell_type": "markdown",
   "metadata": {},
   "source": [
    "### Cross Validation "
   ]
  },
  {
   "cell_type": "markdown",
   "metadata": {},
   "source": [
    "Cross validation is performed to estimate the performance of the algorithms on unseen dataset. It gives an idea about how each model will perform on test dataset. It is also performed to observe how accurate a model will predict. "
   ]
  },
  {
   "cell_type": "code",
   "execution_count": 11,
   "metadata": {},
   "outputs": [
    {
     "name": "stdout",
     "output_type": "stream",
     "text": [
      "SVR\n",
      "AdaBoostRegressor\n",
      "RandomForestRegressor\n",
      "ExtraTreesRegressor\n",
      "LinearRegression\n"
     ]
    },
    {
     "data": {
      "text/html": [
       "<div>\n",
       "<style scoped>\n",
       "    .dataframe tbody tr th:only-of-type {\n",
       "        vertical-align: middle;\n",
       "    }\n",
       "\n",
       "    .dataframe tbody tr th {\n",
       "        vertical-align: top;\n",
       "    }\n",
       "\n",
       "    .dataframe thead th {\n",
       "        text-align: right;\n",
       "    }\n",
       "</style>\n",
       "<table border=\"1\" class=\"dataframe\">\n",
       "  <thead>\n",
       "    <tr style=\"text-align: right;\">\n",
       "      <th></th>\n",
       "      <th>CrossValMeansR2</th>\n",
       "      <th>CrossValerrorsR2</th>\n",
       "      <th>RawCrossValResutlsR2</th>\n",
       "      <th>Algorithm</th>\n",
       "    </tr>\n",
       "  </thead>\n",
       "  <tbody>\n",
       "    <tr>\n",
       "      <th>0</th>\n",
       "      <td>0.903113</td>\n",
       "      <td>0.026126</td>\n",
       "      <td>[0.9245609361314786, 0.8901865653990428, 0.853...</td>\n",
       "      <td>SVR</td>\n",
       "    </tr>\n",
       "    <tr>\n",
       "      <th>1</th>\n",
       "      <td>0.983741</td>\n",
       "      <td>0.006068</td>\n",
       "      <td>[0.9901538328048347, 0.9819479296422047, 0.988...</td>\n",
       "      <td>AdaBoostRegressor</td>\n",
       "    </tr>\n",
       "    <tr>\n",
       "      <th>2</th>\n",
       "      <td>0.989491</td>\n",
       "      <td>0.003345</td>\n",
       "      <td>[0.9909924264851006, 0.986717364819211, 0.9919...</td>\n",
       "      <td>RandomForestRegressor</td>\n",
       "    </tr>\n",
       "    <tr>\n",
       "      <th>3</th>\n",
       "      <td>0.985220</td>\n",
       "      <td>0.005575</td>\n",
       "      <td>[0.9904202743036112, 0.9840153652576866, 0.991...</td>\n",
       "      <td>ExtraTreesRegressor</td>\n",
       "    </tr>\n",
       "    <tr>\n",
       "      <th>4</th>\n",
       "      <td>0.993012</td>\n",
       "      <td>0.002988</td>\n",
       "      <td>[0.9948837451444744, 0.9906458889904894, 0.994...</td>\n",
       "      <td>LinearRegression</td>\n",
       "    </tr>\n",
       "  </tbody>\n",
       "</table>\n",
       "</div>"
      ],
      "text/plain": [
       "   CrossValMeansR2  CrossValerrorsR2  \\\n",
       "0         0.903113          0.026126   \n",
       "1         0.983741          0.006068   \n",
       "2         0.989491          0.003345   \n",
       "3         0.985220          0.005575   \n",
       "4         0.993012          0.002988   \n",
       "\n",
       "                                RawCrossValResutlsR2              Algorithm  \n",
       "0  [0.9245609361314786, 0.8901865653990428, 0.853...                    SVR  \n",
       "1  [0.9901538328048347, 0.9819479296422047, 0.988...      AdaBoostRegressor  \n",
       "2  [0.9909924264851006, 0.986717364819211, 0.9919...  RandomForestRegressor  \n",
       "3  [0.9904202743036112, 0.9840153652576866, 0.991...    ExtraTreesRegressor  \n",
       "4  [0.9948837451444744, 0.9906458889904894, 0.994...       LinearRegression  "
      ]
     },
     "metadata": {},
     "output_type": "display_data"
    },
    {
     "data": {
      "text/html": [
       "<div>\n",
       "<style scoped>\n",
       "    .dataframe tbody tr th:only-of-type {\n",
       "        vertical-align: middle;\n",
       "    }\n",
       "\n",
       "    .dataframe tbody tr th {\n",
       "        vertical-align: top;\n",
       "    }\n",
       "\n",
       "    .dataframe thead th {\n",
       "        text-align: right;\n",
       "    }\n",
       "</style>\n",
       "<table border=\"1\" class=\"dataframe\">\n",
       "  <thead>\n",
       "    <tr style=\"text-align: right;\">\n",
       "      <th></th>\n",
       "      <th>CrossValMeansNMSE</th>\n",
       "      <th>CrossValerrorsNMSE</th>\n",
       "      <th>RawCrossValResutlsNMSE</th>\n",
       "      <th>Algorithm</th>\n",
       "    </tr>\n",
       "  </thead>\n",
       "  <tbody>\n",
       "    <tr>\n",
       "      <th>0</th>\n",
       "      <td>61.916093</td>\n",
       "      <td>27.647564</td>\n",
       "      <td>[-45.64499201449691, -44.94306555595996, -95.4...</td>\n",
       "      <td>SVR</td>\n",
       "    </tr>\n",
       "    <tr>\n",
       "      <th>1</th>\n",
       "      <td>9.391917</td>\n",
       "      <td>2.751002</td>\n",
       "      <td>[-5.957500000000086, -7.388124999999977, -7.77...</td>\n",
       "      <td>AdaBoostRegressor</td>\n",
       "    </tr>\n",
       "    <tr>\n",
       "      <th>2</th>\n",
       "      <td>6.084503</td>\n",
       "      <td>1.455996</td>\n",
       "      <td>[-5.450102374999686, -5.43615037500064, -5.236...</td>\n",
       "      <td>RandomForestRegressor</td>\n",
       "    </tr>\n",
       "    <tr>\n",
       "      <th>3</th>\n",
       "      <td>8.488672</td>\n",
       "      <td>2.546835</td>\n",
       "      <td>[-5.796287499999021, -6.541990874999925, -5.81...</td>\n",
       "      <td>ExtraTreesRegressor</td>\n",
       "    </tr>\n",
       "    <tr>\n",
       "      <th>4</th>\n",
       "      <td>3.929422</td>\n",
       "      <td>0.882889</td>\n",
       "      <td>[-3.0956297712231162, -3.828333262189911, -3.6...</td>\n",
       "      <td>LinearRegression</td>\n",
       "    </tr>\n",
       "  </tbody>\n",
       "</table>\n",
       "</div>"
      ],
      "text/plain": [
       "   CrossValMeansNMSE  CrossValerrorsNMSE  \\\n",
       "0          61.916093           27.647564   \n",
       "1           9.391917            2.751002   \n",
       "2           6.084503            1.455996   \n",
       "3           8.488672            2.546835   \n",
       "4           3.929422            0.882889   \n",
       "\n",
       "                              RawCrossValResutlsNMSE              Algorithm  \n",
       "0  [-45.64499201449691, -44.94306555595996, -95.4...                    SVR  \n",
       "1  [-5.957500000000086, -7.388124999999977, -7.77...      AdaBoostRegressor  \n",
       "2  [-5.450102374999686, -5.43615037500064, -5.236...  RandomForestRegressor  \n",
       "3  [-5.796287499999021, -6.541990874999925, -5.81...    ExtraTreesRegressor  \n",
       "4  [-3.0956297712231162, -3.828333262189911, -3.6...       LinearRegression  "
      ]
     },
     "metadata": {},
     "output_type": "display_data"
    }
   ],
   "source": [
    "# Cross validate model with Kfold repeated cross validation\n",
    "kfold = RepeatedKFold(n_splits = 10, n_repeats = 3, random_state=1)\n",
    "\n",
    "# R2 scoring for cross validation \n",
    "r2_means = []\n",
    "r2_std = []\n",
    "r2_values = []\n",
    "\n",
    "# MSE scoring for cross Validation \n",
    "nmse_means = []\n",
    "nmse_std = []\n",
    "nmse_values = []\n",
    "\n",
    "for regressor in regressors:\n",
    "    print(regressor.__class__.__name__)\n",
    "    regressor_name = regressor.__class__.__name__\n",
    "    \n",
    "    x = X_poly_train if regressor_name == 'LinearRegression' else X_train\n",
    "\n",
    "    r2_result = cross_val_score(regressor, x, y_train, scoring = 'r2', cv = kfold, n_jobs=4)\n",
    "    nmse_result = cross_val_score(regressor, x, y_train, scoring = 'neg_mean_squared_error', cv = kfold, n_jobs=4)\n",
    "    \n",
    "    r2_means.append(r2_result.mean())\n",
    "    r2_std.append(r2_result.std())\n",
    "    r2_values.append(r2_result)\n",
    "\n",
    "\n",
    "    nmse_means.append((-1)*nmse_result.mean())\n",
    "    nmse_std.append(nmse_result.std())\n",
    "    nmse_values.append(nmse_result)\n",
    "    \n",
    "\n",
    "cv_res_R2 = pd.DataFrame({\n",
    "    \"CrossValMeansR2\": r2_means,\n",
    "    \"CrossValerrorsR2\": r2_std,\n",
    "    \"RawCrossValResutlsR2\": r2_values,\n",
    "    \"Algorithm\": [regressor.__class__.__name__ for regressor in regressors]\n",
    "})\n",
    "\n",
    "cv_res_NMSE = pd.DataFrame({\n",
    "    \"CrossValMeansNMSE\": nmse_means,\n",
    "    \"CrossValerrorsNMSE\": nmse_std,\n",
    "    \"RawCrossValResutlsNMSE\": nmse_values,\n",
    "    \"Algorithm\": [regressor.__class__.__name__ for regressor in regressors]\n",
    "})\n",
    "display(cv_res_R2)\n",
    "display(cv_res_NMSE)\n"
   ]
  },
  {
   "cell_type": "code",
   "execution_count": 12,
   "metadata": {},
   "outputs": [],
   "source": [
    "cv_res_R2.sort_values(by='CrossValMeansR2', ascending=False, inplace=True)\n",
    "cv_res_NMSE.sort_values(by='CrossValMeansNMSE', ascending=True, inplace=True)"
   ]
  },
  {
   "cell_type": "code",
   "execution_count": 13,
   "metadata": {},
   "outputs": [
    {
     "data": {
      "image/png": "[encoded data removed]",
      "text/plain": [
       "<Figure size 720x576 with 1 Axes>"
      ]
     },
     "metadata": {
      "needs_background": "light"
     },
     "output_type": "display_data"
    }
   ],
   "source": [
    "fig, ax = plt.subplots(figsize=(10, 8))\n",
    "g = sns.barplot(x = cv_res_R2.CrossValMeansR2, y = cv_res_R2.Algorithm, data=cv_res_R2, palette=\"Set3\", orient = \"h\", ax=ax, **{'xerr':r2_std})\n",
    "g.set_xlabel(\"Mean R2\")\n",
    "g = g.set_title(\"Cross validation scores (R2)\")"
   ]
  },
  {
   "cell_type": "markdown",
   "metadata": {},
   "source": [
    "The above plot is the average R2 cross validation score for each model. It can be observed that the average R2 score for Linear Regression/Polynomial Regression is the highest. The higher the R2 cross validation score, the better the model will perform predictions. The above barplot concludes that Polynomial regression might perform really well as compared to other algorithms. "
   ]
  },
  {
   "cell_type": "code",
   "execution_count": 14,
   "metadata": {
    "scrolled": true
   },
   "outputs": [
    {
     "data": {
      "image/png": "[encoded data removed]",
      "text/plain": [
       "<Figure size 720x576 with 1 Axes>"
      ]
     },
     "metadata": {
      "needs_background": "light"
     },
     "output_type": "display_data"
    }
   ],
   "source": [
    "fig, ax = plt.subplots(figsize=(10, 8))\n",
    "g = sns.barplot(x = cv_res_NMSE.CrossValMeansNMSE, y = cv_res_NMSE.Algorithm, data=cv_res_NMSE, palette=\"Set3\", orient = \"h\", ax=ax, **{'xerr':nmse_std})\n",
    "g.set_xlabel(\"Mean MSE\")\n",
    "g = g.set_title(\"Cross validation scores (MSE)\")"
   ]
  },
  {
   "cell_type": "markdown",
   "metadata": {},
   "source": [
    "The above plot is the average MSE cross validation score for each model. It can be observed that the average MSE score for Linear Regression/Polynomial Regression is the lowest. The lower the MSE cross validation score, the better the model will perform predictions. The above barplot concludes that Polynomial regression might perform really well as compared to other algorithms. "
   ]
  },
  {
   "cell_type": "code",
   "execution_count": 15,
   "metadata": {},
   "outputs": [],
   "source": [
    "# The code below shows all the models used for the study such as LinearRegression (Polynomial Regression),\n",
    "# Random Forest, SVR, AdaBoost and Extra Trees. All the models are provided with multiple parameter distributions\n",
    "# according to the model requirement to find out best performing parameters for each model based on \n",
    "# training and testing scores calculated for each parameter set.\n",
    "models = [\n",
    "    {\n",
    "        'model': LinearRegression(),\n",
    "        'param_distributions': {},\n",
    "        'is_tree': False\n",
    "    },\n",
    "    {\n",
    "        'model': RandomForestRegressor(),\n",
    "        'param_distributions': {\n",
    "            \"max_depth\": [None],\n",
    "            \"max_features\": [1, 3, 10],\n",
    "            \"min_samples_split\": [2, 3, 10],\n",
    "            \"min_samples_leaf\": [1, 3, 10],\n",
    "            \"n_estimators\" :[10, 50, 100, 300],\n",
    "            \"bootstrap\": [False]\n",
    "            \n",
    "        },\n",
    "        'is_tree': True\n",
    "    },\n",
    "    {\n",
    "        'model': SVR(), \n",
    "        'param_distributions': {\n",
    "            'kernel': ['rbf'], \n",
    "            'gamma': [0.001, 0.01, 0.1, 1],\n",
    "            'C': [1, 10, 50, 100, 200, 300, 1000]\n",
    "        },\n",
    "        'is_tree': False\n",
    "    },\n",
    "    {\n",
    "        'model': AdaBoostRegressor(random_state=random_state),\n",
    "        'param_distributions': {\n",
    "            \"n_estimators\": [1, 2],\n",
    "            \"learning_rate\": [0.0001, 0.001, 0.01, 0.1, 0.2, 0.3,1.5]\n",
    "        },\n",
    "        'is_tree': True\n",
    "    },\n",
    "    {\n",
    "        'model': ExtraTreesRegressor(),\n",
    "        'param_distributions': {\n",
    "            \"max_depth\": [None],\n",
    "            \"min_samples_split\": [2, 3, 10],\n",
    "            \"min_samples_leaf\": [1, 3, 10],\n",
    "            \"bootstrap\": [False],\n",
    "            \"n_estimators\" :[100,300],\n",
    "        },\n",
    "        'is_tree': True\n",
    "    }\n",
    "]\n",
    "\n",
    "for model in models:\n",
    "    model['train_score'] = None\n",
    "    model['test_score'] = None"
   ]
  },
  {
   "cell_type": "code",
   "execution_count": 16,
   "metadata": {},
   "outputs": [
    {
     "name": "stdout",
     "output_type": "stream",
     "text": [
      "\n",
      " LinearRegression\n",
      "Fitting 10 folds for each of 1 candidates, totalling 10 fits\n",
      "0.9944, 0.0003 | 0.9928, 0.0039 -for-> {}\n",
      "----------------\n",
      "best params: {}\n",
      "Scores: training=0.9928, testing=0.9963\n",
      "\n",
      " RandomForestRegressor\n",
      "Fitting 10 folds for each of 108 candidates, totalling 1080 fits\n"
     ]
    },
    {
     "name": "stderr",
     "output_type": "stream",
     "text": [
      "C:\\Users\\mo_co\\AppData\\Roaming\\Python\\Python39\\site-packages\\sklearn\\model_selection\\_validation.py:372: FitFailedWarning: \n",
      "720 fits failed out of a total of 1080.\n",
      "The score on these train-test partitions for these parameters will be set to nan.\n",
      "If these failures are not expected, you can try to debug them by setting error_score='raise'.\n",
      "\n",
      "Below are more details about the failures:\n",
      "--------------------------------------------------------------------------------\n",
      "720 fits failed with the following error:\n",
      "Traceback (most recent call last):\n",
      "  File \"C:\\Users\\mo_co\\AppData\\Roaming\\Python\\Python39\\site-packages\\sklearn\\model_selection\\_validation.py\", line 681, in _fit_and_score\n",
      "    estimator.fit(X_train, y_train, **fit_params)\n",
      "  File \"C:\\Users\\mo_co\\AppData\\Roaming\\Python\\Python39\\site-packages\\sklearn\\ensemble\\_forest.py\", line 442, in fit\n",
      "    trees = Parallel(\n",
      "  File \"C:\\Users\\mo_co\\AppData\\Roaming\\Python\\Python39\\site-packages\\joblib\\parallel.py\", line 1043, in __call__\n",
      "    if self.dispatch_one_batch(iterator):\n",
      "  File \"C:\\Users\\mo_co\\AppData\\Roaming\\Python\\Python39\\site-packages\\joblib\\parallel.py\", line 861, in dispatch_one_batch\n",
      "    self._dispatch(tasks)\n",
      "  File \"C:\\Users\\mo_co\\AppData\\Roaming\\Python\\Python39\\site-packages\\joblib\\parallel.py\", line 779, in _dispatch\n",
      "    job = self._backend.apply_async(batch, callback=cb)\n",
      "  File \"C:\\Users\\mo_co\\AppData\\Roaming\\Python\\Python39\\site-packages\\joblib\\_parallel_backends.py\", line 208, in apply_async\n",
      "    result = ImmediateResult(func)\n",
      "  File \"C:\\Users\\mo_co\\AppData\\Roaming\\Python\\Python39\\site-packages\\joblib\\_parallel_backends.py\", line 572, in __init__\n",
      "    self.results = batch()\n",
      "  File \"C:\\Users\\mo_co\\AppData\\Roaming\\Python\\Python39\\site-packages\\joblib\\parallel.py\", line 262, in __call__\n",
      "    return [func(*args, **kwargs)\n",
      "  File \"C:\\Users\\mo_co\\AppData\\Roaming\\Python\\Python39\\site-packages\\joblib\\parallel.py\", line 262, in <listcomp>\n",
      "    return [func(*args, **kwargs)\n",
      "  File \"C:\\Users\\mo_co\\AppData\\Roaming\\Python\\Python39\\site-packages\\sklearn\\utils\\fixes.py\", line 211, in __call__\n",
      "    return self.function(*args, **kwargs)\n",
      "  File \"C:\\Users\\mo_co\\AppData\\Roaming\\Python\\Python39\\site-packages\\sklearn\\ensemble\\_forest.py\", line 187, in _parallel_build_trees\n",
      "    tree.fit(X, y, sample_weight=sample_weight, check_input=False)\n",
      "  File \"C:\\Users\\mo_co\\AppData\\Roaming\\Python\\Python39\\site-packages\\sklearn\\tree\\_classes.py\", line 1315, in fit\n",
      "    super().fit(\n",
      "  File \"C:\\Users\\mo_co\\AppData\\Roaming\\Python\\Python39\\site-packages\\sklearn\\tree\\_classes.py\", line 308, in fit\n",
      "    raise ValueError(\"max_features must be in (0, n_features]\")\n",
      "ValueError: max_features must be in (0, n_features]\n",
      "\n",
      "  warnings.warn(some_fits_failed_message, FitFailedWarning)\n",
      "C:\\Users\\mo_co\\AppData\\Roaming\\Python\\Python39\\site-packages\\sklearn\\model_selection\\_search.py:969: UserWarning: One or more of the test scores are non-finite: [0.96723661 0.9760762  0.97646336 0.97745851 0.96560186 0.96889367\n",
      " 0.97469268 0.97483537 0.9316623  0.94383138 0.94535339 0.94717955\n",
      " 0.94547371 0.94087871 0.94218822 0.94341789 0.93578446 0.94663541\n",
      " 0.94731195 0.94658044 0.91283791 0.92884725 0.9271785  0.92741414\n",
      " 0.86970401 0.8700951  0.86405185 0.8751511  0.85929092 0.86969972\n",
      " 0.86830425 0.86984821 0.86768595 0.87964916 0.87535705 0.87441479\n",
      "        nan        nan        nan        nan        nan        nan\n",
      "        nan        nan        nan        nan        nan        nan\n",
      "        nan        nan        nan        nan        nan        nan\n",
      "        nan        nan        nan        nan        nan        nan\n",
      "        nan        nan        nan        nan        nan        nan\n",
      "        nan        nan        nan        nan        nan        nan\n",
      "        nan        nan        nan        nan        nan        nan\n",
      "        nan        nan        nan        nan        nan        nan\n",
      "        nan        nan        nan        nan        nan        nan\n",
      "        nan        nan        nan        nan        nan        nan\n",
      "        nan        nan        nan        nan        nan        nan\n",
      "        nan        nan        nan        nan        nan        nan]\n",
      "  warnings.warn(\n",
      "C:\\Users\\mo_co\\AppData\\Roaming\\Python\\Python39\\site-packages\\sklearn\\model_selection\\_search.py:969: UserWarning: One or more of the train scores are non-finite: [1.         0.99999984 0.99999963 0.99999993 0.9982646  0.99857797\n",
      " 0.99866652 0.9987522  0.97972137 0.98109526 0.98156695 0.98195839\n",
      " 0.98393315 0.9844615  0.98450219 0.98508183 0.98095186 0.98593345\n",
      " 0.98531769 0.98545656 0.96545528 0.9752302  0.97481573 0.97496937\n",
      " 0.91684574 0.91922089 0.91731657 0.92234695 0.91502478 0.91819889\n",
      " 0.91967467 0.91870288 0.92336237 0.92203859 0.9237317  0.92186842\n",
      "        nan        nan        nan        nan        nan        nan\n",
      "        nan        nan        nan        nan        nan        nan\n",
      "        nan        nan        nan        nan        nan        nan\n",
      "        nan        nan        nan        nan        nan        nan\n",
      "        nan        nan        nan        nan        nan        nan\n",
      "        nan        nan        nan        nan        nan        nan\n",
      "        nan        nan        nan        nan        nan        nan\n",
      "        nan        nan        nan        nan        nan        nan\n",
      "        nan        nan        nan        nan        nan        nan\n",
      "        nan        nan        nan        nan        nan        nan\n",
      "        nan        nan        nan        nan        nan        nan\n",
      "        nan        nan        nan        nan        nan        nan]\n",
      "  warnings.warn(\n"
     ]
    },
    {
     "name": "stdout",
     "output_type": "stream",
     "text": [
      "1.0000, 0.0000 | 0.9672, 0.0196 -for-> {'bootstrap': False, 'max_depth': None, 'max_features': 1, 'min_samples_leaf': 1, 'min_samples_split': 2, 'n_estimators': 10}\n",
      "1.0000, 0.0000 | 0.9761, 0.0091 -for-> {'bootstrap': False, 'max_depth': None, 'max_features': 1, 'min_samples_leaf': 1, 'min_samples_split': 2, 'n_estimators': 50}\n",
      "1.0000, 0.0000 | 0.9765, 0.0083 -for-> {'bootstrap': False, 'max_depth': None, 'max_features': 1, 'min_samples_leaf': 1, 'min_samples_split': 2, 'n_estimators': 100}\n",
      "1.0000, 0.0000 | 0.9775, 0.0085 -for-> {'bootstrap': False, 'max_depth': None, 'max_features': 1, 'min_samples_leaf': 1, 'min_samples_split': 2, 'n_estimators': 300}\n",
      "0.9983, 0.0003 | 0.9656, 0.0135 -for-> {'bootstrap': False, 'max_depth': None, 'max_features': 1, 'min_samples_leaf': 1, 'min_samples_split': 3, 'n_estimators': 10}\n",
      "0.9986, 0.0004 | 0.9689, 0.0144 -for-> {'bootstrap': False, 'max_depth': None, 'max_features': 1, 'min_samples_leaf': 1, 'min_samples_split': 3, 'n_estimators': 50}\n",
      "0.9987, 0.0004 | 0.9747, 0.0099 -for-> {'bootstrap': False, 'max_depth': None, 'max_features': 1, 'min_samples_leaf': 1, 'min_samples_split': 3, 'n_estimators': 100}\n",
      "0.9988, 0.0003 | 0.9748, 0.0105 -for-> {'bootstrap': False, 'max_depth': None, 'max_features': 1, 'min_samples_leaf': 1, 'min_samples_split': 3, 'n_estimators': 300}\n",
      "0.9797, 0.0070 | 0.9317, 0.0259 -for-> {'bootstrap': False, 'max_depth': None, 'max_features': 1, 'min_samples_leaf': 1, 'min_samples_split': 10, 'n_estimators': 10}\n",
      "0.9811, 0.0044 | 0.9438, 0.0177 -for-> {'bootstrap': False, 'max_depth': None, 'max_features': 1, 'min_samples_leaf': 1, 'min_samples_split': 10, 'n_estimators': 50}\n",
      "0.9816, 0.0045 | 0.9454, 0.0157 -for-> {'bootstrap': False, 'max_depth': None, 'max_features': 1, 'min_samples_leaf': 1, 'min_samples_split': 10, 'n_estimators': 100}\n",
      "0.9820, 0.0051 | 0.9472, 0.0159 -for-> {'bootstrap': False, 'max_depth': None, 'max_features': 1, 'min_samples_leaf': 1, 'min_samples_split': 10, 'n_estimators': 300}\n",
      "0.9839, 0.0036 | 0.9455, 0.0227 -for-> {'bootstrap': False, 'max_depth': None, 'max_features': 1, 'min_samples_leaf': 3, 'min_samples_split': 2, 'n_estimators': 10}\n",
      "0.9845, 0.0017 | 0.9409, 0.0244 -for-> {'bootstrap': False, 'max_depth': None, 'max_features': 1, 'min_samples_leaf': 3, 'min_samples_split': 2, 'n_estimators': 50}\n",
      "0.9845, 0.0028 | 0.9422, 0.0232 -for-> {'bootstrap': False, 'max_depth': None, 'max_features': 1, 'min_samples_leaf': 3, 'min_samples_split': 2, 'n_estimators': 100}\n",
      "0.9851, 0.0016 | 0.9434, 0.0202 -for-> {'bootstrap': False, 'max_depth': None, 'max_features': 1, 'min_samples_leaf': 3, 'min_samples_split': 2, 'n_estimators': 300}\n",
      "0.9810, 0.0081 | 0.9358, 0.0309 -for-> {'bootstrap': False, 'max_depth': None, 'max_features': 1, 'min_samples_leaf': 3, 'min_samples_split': 3, 'n_estimators': 10}\n",
      "0.9859, 0.0029 | 0.9466, 0.0207 -for-> {'bootstrap': False, 'max_depth': None, 'max_features': 1, 'min_samples_leaf': 3, 'min_samples_split': 3, 'n_estimators': 50}\n",
      "0.9853, 0.0011 | 0.9473, 0.0187 -for-> {'bootstrap': False, 'max_depth': None, 'max_features': 1, 'min_samples_leaf': 3, 'min_samples_split': 3, 'n_estimators': 100}\n",
      "0.9855, 0.0015 | 0.9466, 0.0188 -for-> {'bootstrap': False, 'max_depth': None, 'max_features': 1, 'min_samples_leaf': 3, 'min_samples_split': 3, 'n_estimators': 300}\n",
      "0.9655, 0.0121 | 0.9128, 0.0444 -for-> {'bootstrap': False, 'max_depth': None, 'max_features': 1, 'min_samples_leaf': 3, 'min_samples_split': 10, 'n_estimators': 10}\n",
      "0.9752, 0.0037 | 0.9288, 0.0329 -for-> {'bootstrap': False, 'max_depth': None, 'max_features': 1, 'min_samples_leaf': 3, 'min_samples_split': 10, 'n_estimators': 50}\n",
      "0.9748, 0.0029 | 0.9272, 0.0267 -for-> {'bootstrap': False, 'max_depth': None, 'max_features': 1, 'min_samples_leaf': 3, 'min_samples_split': 10, 'n_estimators': 100}\n",
      "0.9750, 0.0044 | 0.9274, 0.0243 -for-> {'bootstrap': False, 'max_depth': None, 'max_features': 1, 'min_samples_leaf': 3, 'min_samples_split': 10, 'n_estimators': 300}\n",
      "0.9168, 0.0164 | 0.8697, 0.0547 -for-> {'bootstrap': False, 'max_depth': None, 'max_features': 1, 'min_samples_leaf': 10, 'min_samples_split': 2, 'n_estimators': 10}\n",
      "0.9192, 0.0118 | 0.8701, 0.0364 -for-> {'bootstrap': False, 'max_depth': None, 'max_features': 1, 'min_samples_leaf': 10, 'min_samples_split': 2, 'n_estimators': 50}\n",
      "0.9173, 0.0132 | 0.8641, 0.0453 -for-> {'bootstrap': False, 'max_depth': None, 'max_features': 1, 'min_samples_leaf': 10, 'min_samples_split': 2, 'n_estimators': 100}\n",
      "0.9223, 0.0094 | 0.8752, 0.0442 -for-> {'bootstrap': False, 'max_depth': None, 'max_features': 1, 'min_samples_leaf': 10, 'min_samples_split': 2, 'n_estimators': 300}\n",
      "0.9150, 0.0267 | 0.8593, 0.0624 -for-> {'bootstrap': False, 'max_depth': None, 'max_features': 1, 'min_samples_leaf': 10, 'min_samples_split': 3, 'n_estimators': 10}\n",
      "0.9182, 0.0129 | 0.8697, 0.0458 -for-> {'bootstrap': False, 'max_depth': None, 'max_features': 1, 'min_samples_leaf': 10, 'min_samples_split': 3, 'n_estimators': 50}\n",
      "0.9197, 0.0141 | 0.8683, 0.0470 -for-> {'bootstrap': False, 'max_depth': None, 'max_features': 1, 'min_samples_leaf': 10, 'min_samples_split': 3, 'n_estimators': 100}\n",
      "0.9187, 0.0099 | 0.8698, 0.0408 -for-> {'bootstrap': False, 'max_depth': None, 'max_features': 1, 'min_samples_leaf': 10, 'min_samples_split': 3, 'n_estimators': 300}\n",
      "0.9234, 0.0153 | 0.8677, 0.0616 -for-> {'bootstrap': False, 'max_depth': None, 'max_features': 1, 'min_samples_leaf': 10, 'min_samples_split': 10, 'n_estimators': 10}\n",
      "0.9220, 0.0115 | 0.8796, 0.0415 -for-> {'bootstrap': False, 'max_depth': None, 'max_features': 1, 'min_samples_leaf': 10, 'min_samples_split': 10, 'n_estimators': 50}\n",
      "0.9237, 0.0095 | 0.8754, 0.0419 -for-> {'bootstrap': False, 'max_depth': None, 'max_features': 1, 'min_samples_leaf': 10, 'min_samples_split': 10, 'n_estimators': 100}\n",
      "0.9219, 0.0109 | 0.8744, 0.0419 -for-> {'bootstrap': False, 'max_depth': None, 'max_features': 1, 'min_samples_leaf': 10, 'min_samples_split': 10, 'n_estimators': 300}\n",
      "nan, nan | nan, nan -for-> {'bootstrap': False, 'max_depth': None, 'max_features': 3, 'min_samples_leaf': 1, 'min_samples_split': 2, 'n_estimators': 10}\n",
      "nan, nan | nan, nan -for-> {'bootstrap': False, 'max_depth': None, 'max_features': 3, 'min_samples_leaf': 1, 'min_samples_split': 2, 'n_estimators': 50}\n",
      "nan, nan | nan, nan -for-> {'bootstrap': False, 'max_depth': None, 'max_features': 3, 'min_samples_leaf': 1, 'min_samples_split': 2, 'n_estimators': 100}\n",
      "nan, nan | nan, nan -for-> {'bootstrap': False, 'max_depth': None, 'max_features': 3, 'min_samples_leaf': 1, 'min_samples_split': 2, 'n_estimators': 300}\n",
      "nan, nan | nan, nan -for-> {'bootstrap': False, 'max_depth': None, 'max_features': 3, 'min_samples_leaf': 1, 'min_samples_split': 3, 'n_estimators': 10}\n",
      "nan, nan | nan, nan -for-> {'bootstrap': False, 'max_depth': None, 'max_features': 3, 'min_samples_leaf': 1, 'min_samples_split': 3, 'n_estimators': 50}\n",
      "nan, nan | nan, nan -for-> {'bootstrap': False, 'max_depth': None, 'max_features': 3, 'min_samples_leaf': 1, 'min_samples_split': 3, 'n_estimators': 100}\n",
      "nan, nan | nan, nan -for-> {'bootstrap': False, 'max_depth': None, 'max_features': 3, 'min_samples_leaf': 1, 'min_samples_split': 3, 'n_estimators': 300}\n",
      "nan, nan | nan, nan -for-> {'bootstrap': False, 'max_depth': None, 'max_features': 3, 'min_samples_leaf': 1, 'min_samples_split': 10, 'n_estimators': 10}\n",
      "nan, nan | nan, nan -for-> {'bootstrap': False, 'max_depth': None, 'max_features': 3, 'min_samples_leaf': 1, 'min_samples_split': 10, 'n_estimators': 50}\n",
      "nan, nan | nan, nan -for-> {'bootstrap': False, 'max_depth': None, 'max_features': 3, 'min_samples_leaf': 1, 'min_samples_split': 10, 'n_estimators': 100}\n",
      "nan, nan | nan, nan -for-> {'bootstrap': False, 'max_depth': None, 'max_features': 3, 'min_samples_leaf': 1, 'min_samples_split': 10, 'n_estimators': 300}\n",
      "nan, nan | nan, nan -for-> {'bootstrap': False, 'max_depth': None, 'max_features': 3, 'min_samples_leaf': 3, 'min_samples_split': 2, 'n_estimators': 10}\n",
      "nan, nan | nan, nan -for-> {'bootstrap': False, 'max_depth': None, 'max_features': 3, 'min_samples_leaf': 3, 'min_samples_split': 2, 'n_estimators': 50}\n",
      "nan, nan | nan, nan -for-> {'bootstrap': False, 'max_depth': None, 'max_features': 3, 'min_samples_leaf': 3, 'min_samples_split': 2, 'n_estimators': 100}\n",
      "nan, nan | nan, nan -for-> {'bootstrap': False, 'max_depth': None, 'max_features': 3, 'min_samples_leaf': 3, 'min_samples_split': 2, 'n_estimators': 300}\n",
      "nan, nan | nan, nan -for-> {'bootstrap': False, 'max_depth': None, 'max_features': 3, 'min_samples_leaf': 3, 'min_samples_split': 3, 'n_estimators': 10}\n",
      "nan, nan | nan, nan -for-> {'bootstrap': False, 'max_depth': None, 'max_features': 3, 'min_samples_leaf': 3, 'min_samples_split': 3, 'n_estimators': 50}\n",
      "nan, nan | nan, nan -for-> {'bootstrap': False, 'max_depth': None, 'max_features': 3, 'min_samples_leaf': 3, 'min_samples_split': 3, 'n_estimators': 100}\n",
      "nan, nan | nan, nan -for-> {'bootstrap': False, 'max_depth': None, 'max_features': 3, 'min_samples_leaf': 3, 'min_samples_split': 3, 'n_estimators': 300}\n",
      "nan, nan | nan, nan -for-> {'bootstrap': False, 'max_depth': None, 'max_features': 3, 'min_samples_leaf': 3, 'min_samples_split': 10, 'n_estimators': 10}\n",
      "nan, nan | nan, nan -for-> {'bootstrap': False, 'max_depth': None, 'max_features': 3, 'min_samples_leaf': 3, 'min_samples_split': 10, 'n_estimators': 50}\n",
      "nan, nan | nan, nan -for-> {'bootstrap': False, 'max_depth': None, 'max_features': 3, 'min_samples_leaf': 3, 'min_samples_split': 10, 'n_estimators': 100}\n",
      "nan, nan | nan, nan -for-> {'bootstrap': False, 'max_depth': None, 'max_features': 3, 'min_samples_leaf': 3, 'min_samples_split': 10, 'n_estimators': 300}\n",
      "nan, nan | nan, nan -for-> {'bootstrap': False, 'max_depth': None, 'max_features': 3, 'min_samples_leaf': 10, 'min_samples_split': 2, 'n_estimators': 10}\n",
      "nan, nan | nan, nan -for-> {'bootstrap': False, 'max_depth': None, 'max_features': 3, 'min_samples_leaf': 10, 'min_samples_split': 2, 'n_estimators': 50}\n",
      "nan, nan | nan, nan -for-> {'bootstrap': False, 'max_depth': None, 'max_features': 3, 'min_samples_leaf': 10, 'min_samples_split': 2, 'n_estimators': 100}\n",
      "nan, nan | nan, nan -for-> {'bootstrap': False, 'max_depth': None, 'max_features': 3, 'min_samples_leaf': 10, 'min_samples_split': 2, 'n_estimators': 300}\n",
      "nan, nan | nan, nan -for-> {'bootstrap': False, 'max_depth': None, 'max_features': 3, 'min_samples_leaf': 10, 'min_samples_split': 3, 'n_estimators': 10}\n",
      "nan, nan | nan, nan -for-> {'bootstrap': False, 'max_depth': None, 'max_features': 3, 'min_samples_leaf': 10, 'min_samples_split': 3, 'n_estimators': 50}\n",
      "nan, nan | nan, nan -for-> {'bootstrap': False, 'max_depth': None, 'max_features': 3, 'min_samples_leaf': 10, 'min_samples_split': 3, 'n_estimators': 100}\n",
      "nan, nan | nan, nan -for-> {'bootstrap': False, 'max_depth': None, 'max_features': 3, 'min_samples_leaf': 10, 'min_samples_split': 3, 'n_estimators': 300}\n",
      "nan, nan | nan, nan -for-> {'bootstrap': False, 'max_depth': None, 'max_features': 3, 'min_samples_leaf': 10, 'min_samples_split': 10, 'n_estimators': 10}\n",
      "nan, nan | nan, nan -for-> {'bootstrap': False, 'max_depth': None, 'max_features': 3, 'min_samples_leaf': 10, 'min_samples_split': 10, 'n_estimators': 50}\n",
      "nan, nan | nan, nan -for-> {'bootstrap': False, 'max_depth': None, 'max_features': 3, 'min_samples_leaf': 10, 'min_samples_split': 10, 'n_estimators': 100}\n",
      "nan, nan | nan, nan -for-> {'bootstrap': False, 'max_depth': None, 'max_features': 3, 'min_samples_leaf': 10, 'min_samples_split': 10, 'n_estimators': 300}\n",
      "nan, nan | nan, nan -for-> {'bootstrap': False, 'max_depth': None, 'max_features': 10, 'min_samples_leaf': 1, 'min_samples_split': 2, 'n_estimators': 10}\n",
      "nan, nan | nan, nan -for-> {'bootstrap': False, 'max_depth': None, 'max_features': 10, 'min_samples_leaf': 1, 'min_samples_split': 2, 'n_estimators': 50}\n",
      "nan, nan | nan, nan -for-> {'bootstrap': False, 'max_depth': None, 'max_features': 10, 'min_samples_leaf': 1, 'min_samples_split': 2, 'n_estimators': 100}\n",
      "nan, nan | nan, nan -for-> {'bootstrap': False, 'max_depth': None, 'max_features': 10, 'min_samples_leaf': 1, 'min_samples_split': 2, 'n_estimators': 300}\n",
      "nan, nan | nan, nan -for-> {'bootstrap': False, 'max_depth': None, 'max_features': 10, 'min_samples_leaf': 1, 'min_samples_split': 3, 'n_estimators': 10}\n",
      "nan, nan | nan, nan -for-> {'bootstrap': False, 'max_depth': None, 'max_features': 10, 'min_samples_leaf': 1, 'min_samples_split': 3, 'n_estimators': 50}\n",
      "nan, nan | nan, nan -for-> {'bootstrap': False, 'max_depth': None, 'max_features': 10, 'min_samples_leaf': 1, 'min_samples_split': 3, 'n_estimators': 100}\n",
      "nan, nan | nan, nan -for-> {'bootstrap': False, 'max_depth': None, 'max_features': 10, 'min_samples_leaf': 1, 'min_samples_split': 3, 'n_estimators': 300}\n",
      "nan, nan | nan, nan -for-> {'bootstrap': False, 'max_depth': None, 'max_features': 10, 'min_samples_leaf': 1, 'min_samples_split': 10, 'n_estimators': 10}\n",
      "nan, nan | nan, nan -for-> {'bootstrap': False, 'max_depth': None, 'max_features': 10, 'min_samples_leaf': 1, 'min_samples_split': 10, 'n_estimators': 50}\n",
      "nan, nan | nan, nan -for-> {'bootstrap': False, 'max_depth': None, 'max_features': 10, 'min_samples_leaf': 1, 'min_samples_split': 10, 'n_estimators': 100}\n",
      "nan, nan | nan, nan -for-> {'bootstrap': False, 'max_depth': None, 'max_features': 10, 'min_samples_leaf': 1, 'min_samples_split': 10, 'n_estimators': 300}\n",
      "nan, nan | nan, nan -for-> {'bootstrap': False, 'max_depth': None, 'max_features': 10, 'min_samples_leaf': 3, 'min_samples_split': 2, 'n_estimators': 10}\n",
      "nan, nan | nan, nan -for-> {'bootstrap': False, 'max_depth': None, 'max_features': 10, 'min_samples_leaf': 3, 'min_samples_split': 2, 'n_estimators': 50}\n",
      "nan, nan | nan, nan -for-> {'bootstrap': False, 'max_depth': None, 'max_features': 10, 'min_samples_leaf': 3, 'min_samples_split': 2, 'n_estimators': 100}\n",
      "nan, nan | nan, nan -for-> {'bootstrap': False, 'max_depth': None, 'max_features': 10, 'min_samples_leaf': 3, 'min_samples_split': 2, 'n_estimators': 300}\n",
      "nan, nan | nan, nan -for-> {'bootstrap': False, 'max_depth': None, 'max_features': 10, 'min_samples_leaf': 3, 'min_samples_split': 3, 'n_estimators': 10}\n",
      "nan, nan | nan, nan -for-> {'bootstrap': False, 'max_depth': None, 'max_features': 10, 'min_samples_leaf': 3, 'min_samples_split': 3, 'n_estimators': 50}\n",
      "nan, nan | nan, nan -for-> {'bootstrap': False, 'max_depth': None, 'max_features': 10, 'min_samples_leaf': 3, 'min_samples_split': 3, 'n_estimators': 100}\n",
      "nan, nan | nan, nan -for-> {'bootstrap': False, 'max_depth': None, 'max_features': 10, 'min_samples_leaf': 3, 'min_samples_split': 3, 'n_estimators': 300}\n",
      "nan, nan | nan, nan -for-> {'bootstrap': False, 'max_depth': None, 'max_features': 10, 'min_samples_leaf': 3, 'min_samples_split': 10, 'n_estimators': 10}\n",
      "nan, nan | nan, nan -for-> {'bootstrap': False, 'max_depth': None, 'max_features': 10, 'min_samples_leaf': 3, 'min_samples_split': 10, 'n_estimators': 50}\n",
      "nan, nan | nan, nan -for-> {'bootstrap': False, 'max_depth': None, 'max_features': 10, 'min_samples_leaf': 3, 'min_samples_split': 10, 'n_estimators': 100}\n",
      "nan, nan | nan, nan -for-> {'bootstrap': False, 'max_depth': None, 'max_features': 10, 'min_samples_leaf': 3, 'min_samples_split': 10, 'n_estimators': 300}\n",
      "nan, nan | nan, nan -for-> {'bootstrap': False, 'max_depth': None, 'max_features': 10, 'min_samples_leaf': 10, 'min_samples_split': 2, 'n_estimators': 10}\n",
      "nan, nan | nan, nan -for-> {'bootstrap': False, 'max_depth': None, 'max_features': 10, 'min_samples_leaf': 10, 'min_samples_split': 2, 'n_estimators': 50}\n",
      "nan, nan | nan, nan -for-> {'bootstrap': False, 'max_depth': None, 'max_features': 10, 'min_samples_leaf': 10, 'min_samples_split': 2, 'n_estimators': 100}\n",
      "nan, nan | nan, nan -for-> {'bootstrap': False, 'max_depth': None, 'max_features': 10, 'min_samples_leaf': 10, 'min_samples_split': 2, 'n_estimators': 300}\n",
      "nan, nan | nan, nan -for-> {'bootstrap': False, 'max_depth': None, 'max_features': 10, 'min_samples_leaf': 10, 'min_samples_split': 3, 'n_estimators': 10}\n",
      "nan, nan | nan, nan -for-> {'bootstrap': False, 'max_depth': None, 'max_features': 10, 'min_samples_leaf': 10, 'min_samples_split': 3, 'n_estimators': 50}\n",
      "nan, nan | nan, nan -for-> {'bootstrap': False, 'max_depth': None, 'max_features': 10, 'min_samples_leaf': 10, 'min_samples_split': 3, 'n_estimators': 100}\n",
      "nan, nan | nan, nan -for-> {'bootstrap': False, 'max_depth': None, 'max_features': 10, 'min_samples_leaf': 10, 'min_samples_split': 3, 'n_estimators': 300}\n",
      "nan, nan | nan, nan -for-> {'bootstrap': False, 'max_depth': None, 'max_features': 10, 'min_samples_leaf': 10, 'min_samples_split': 10, 'n_estimators': 10}\n",
      "nan, nan | nan, nan -for-> {'bootstrap': False, 'max_depth': None, 'max_features': 10, 'min_samples_leaf': 10, 'min_samples_split': 10, 'n_estimators': 50}\n",
      "nan, nan | nan, nan -for-> {'bootstrap': False, 'max_depth': None, 'max_features': 10, 'min_samples_leaf': 10, 'min_samples_split': 10, 'n_estimators': 100}\n",
      "nan, nan | nan, nan -for-> {'bootstrap': False, 'max_depth': None, 'max_features': 10, 'min_samples_leaf': 10, 'min_samples_split': 10, 'n_estimators': 300}\n",
      "----------------\n",
      "best params: {'bootstrap': False, 'max_depth': None, 'max_features': 1, 'min_samples_leaf': 1, 'min_samples_split': 2, 'n_estimators': 300}\n",
      "Scores: training=0.9775, testing=0.9851\n",
      "\n",
      " SVR\n",
      "Fitting 10 folds for each of 28 candidates, totalling 280 fits\n",
      "0.8412, 0.0092 | 0.8388, 0.0692 -for-> {'C': 1, 'gamma': 0.001, 'kernel': 'rbf'}\n",
      "0.5447, 0.0159 | 0.4929, 0.0806 -for-> {'C': 1, 'gamma': 0.01, 'kernel': 'rbf'}\n",
      "0.1974, 0.0092 | 0.0735, 0.1426 -for-> {'C': 1, 'gamma': 0.1, 'kernel': 'rbf'}\n",
      "0.1047, 0.0046 | -0.0317, 0.1537 -for-> {'C': 1, 'gamma': 1, 'kernel': 'rbf'}\n",
      "0.9884, 0.0011 | 0.9841, 0.0055 -for-> {'C': 10, 'gamma': 0.001, 'kernel': 'rbf'}\n",
      "0.9735, 0.0065 | 0.9446, 0.0257 -for-> {'C': 10, 'gamma': 0.01, 'kernel': 'rbf'}\n",
      "0.8808, 0.0099 | 0.7243, 0.0959 -for-> {'C': 10, 'gamma': 0.1, 'kernel': 'rbf'}\n",
      "0.7267, 0.0140 | 0.3552, 0.1305 -for-> {'C': 10, 'gamma': 1, 'kernel': 'rbf'}\n",
      "0.9935, 0.0003 | 0.9893, 0.0046 -for-> {'C': 50, 'gamma': 0.001, 'kernel': 'rbf'}\n",
      "0.9941, 0.0004 | 0.9839, 0.0062 -for-> {'C': 50, 'gamma': 0.01, 'kernel': 'rbf'}\n",
      "0.9943, 0.0004 | 0.9313, 0.0508 -for-> {'C': 50, 'gamma': 0.1, 'kernel': 'rbf'}\n",
      "0.9967, 0.0003 | 0.5647, 0.1746 -for-> {'C': 50, 'gamma': 1, 'kernel': 'rbf'}\n",
      "0.9937, 0.0003 | 0.9890, 0.0049 -for-> {'C': 100, 'gamma': 0.001, 'kernel': 'rbf'}\n",
      "0.9944, 0.0004 | 0.9846, 0.0054 -for-> {'C': 100, 'gamma': 0.01, 'kernel': 'rbf'}\n",
      "0.9947, 0.0004 | 0.9347, 0.0474 -for-> {'C': 100, 'gamma': 0.1, 'kernel': 'rbf'}\n",
      "0.9984, 0.0002 | 0.5586, 0.1718 -for-> {'C': 100, 'gamma': 1, 'kernel': 'rbf'}\n",
      "0.9938, 0.0003 | 0.9887, 0.0048 -for-> {'C': 200, 'gamma': 0.001, 'kernel': 'rbf'}\n",
      "0.9947, 0.0003 | 0.9850, 0.0052 -for-> {'C': 200, 'gamma': 0.01, 'kernel': 'rbf'}\n",
      "0.9951, 0.0004 | 0.9336, 0.0456 -for-> {'C': 200, 'gamma': 0.1, 'kernel': 'rbf'}\n",
      "0.9994, 0.0001 | 0.5533, 0.1706 -for-> {'C': 200, 'gamma': 1, 'kernel': 'rbf'}\n",
      "0.9938, 0.0002 | 0.9882, 0.0051 -for-> {'C': 300, 'gamma': 0.001, 'kernel': 'rbf'}\n",
      "0.9947, 0.0003 | 0.9852, 0.0051 -for-> {'C': 300, 'gamma': 0.01, 'kernel': 'rbf'}\n",
      "0.9955, 0.0004 | 0.9290, 0.0481 -for-> {'C': 300, 'gamma': 0.1, 'kernel': 'rbf'}\n",
      "0.9996, 0.0001 | 0.5513, 0.1687 -for-> {'C': 300, 'gamma': 1, 'kernel': 'rbf'}\n",
      "0.9939, 0.0002 | 0.9875, 0.0053 -for-> {'C': 1000, 'gamma': 0.001, 'kernel': 'rbf'}\n",
      "0.9948, 0.0004 | 0.9854, 0.0052 -for-> {'C': 1000, 'gamma': 0.01, 'kernel': 'rbf'}\n",
      "0.9967, 0.0004 | 0.8705, 0.1130 -for-> {'C': 1000, 'gamma': 0.1, 'kernel': 'rbf'}\n",
      "1.0000, 0.0000 | 0.5476, 0.1726 -for-> {'C': 1000, 'gamma': 1, 'kernel': 'rbf'}\n",
      "----------------\n",
      "best params: {'C': 50, 'gamma': 0.001, 'kernel': 'rbf'}\n",
      "Scores: training=0.9893, testing=0.9922\n",
      "\n",
      " AdaBoostRegressor\n",
      "Fitting 10 folds for each of 14 candidates, totalling 140 fits\n",
      "0.9583, 0.0041 | 0.9430, 0.0130 -for-> {'learning_rate': 0.0001, 'n_estimators': 1}\n",
      "0.9585, 0.0043 | 0.9389, 0.0205 -for-> {'learning_rate': 0.0001, 'n_estimators': 2}\n",
      "0.9583, 0.0041 | 0.9430, 0.0130 -for-> {'learning_rate': 0.001, 'n_estimators': 1}\n",
      "0.9585, 0.0043 | 0.9389, 0.0205 -for-> {'learning_rate': 0.001, 'n_estimators': 2}\n",
      "0.9583, 0.0041 | 0.9430, 0.0130 -for-> {'learning_rate': 0.01, 'n_estimators': 1}\n",
      "0.9585, 0.0043 | 0.9389, 0.0205 -for-> {'learning_rate': 0.01, 'n_estimators': 2}\n",
      "0.9583, 0.0041 | 0.9430, 0.0130 -for-> {'learning_rate': 0.1, 'n_estimators': 1}\n",
      "0.9583, 0.0041 | 0.9430, 0.0130 -for-> {'learning_rate': 0.1, 'n_estimators': 2}\n",
      "0.9583, 0.0041 | 0.9430, 0.0130 -for-> {'learning_rate': 0.2, 'n_estimators': 1}\n",
      "0.9585, 0.0043 | 0.9391, 0.0201 -for-> {'learning_rate': 0.2, 'n_estimators': 2}\n",
      "0.9583, 0.0041 | 0.9430, 0.0130 -for-> {'learning_rate': 0.3, 'n_estimators': 1}\n",
      "0.9584, 0.0043 | 0.9386, 0.0211 -for-> {'learning_rate': 0.3, 'n_estimators': 2}\n",
      "0.9583, 0.0041 | 0.9430, 0.0130 -for-> {'learning_rate': 1.5, 'n_estimators': 1}\n",
      "0.9575, 0.0045 | 0.9363, 0.0162 -for-> {'learning_rate': 1.5, 'n_estimators': 2}\n",
      "----------------\n",
      "best params: {'learning_rate': 0.0001, 'n_estimators': 1}\n",
      "Scores: training=0.9430, testing=0.9227\n",
      "\n",
      " ExtraTreesRegressor\n",
      "Fitting 10 folds for each of 18 candidates, totalling 180 fits\n",
      "1.0000, 0.0000 | 0.9850, 0.0059 -for-> {'bootstrap': False, 'max_depth': None, 'min_samples_leaf': 1, 'min_samples_split': 2, 'n_estimators': 100}\n",
      "1.0000, 0.0000 | 0.9851, 0.0059 -for-> {'bootstrap': False, 'max_depth': None, 'min_samples_leaf': 1, 'min_samples_split': 2, 'n_estimators': 300}\n",
      "0.9974, 0.0001 | 0.9868, 0.0055 -for-> {'bootstrap': False, 'max_depth': None, 'min_samples_leaf': 1, 'min_samples_split': 3, 'n_estimators': 100}\n",
      "0.9974, 0.0002 | 0.9869, 0.0053 -for-> {'bootstrap': False, 'max_depth': None, 'min_samples_leaf': 1, 'min_samples_split': 3, 'n_estimators': 300}\n",
      "0.9917, 0.0007 | 0.9839, 0.0098 -for-> {'bootstrap': False, 'max_depth': None, 'min_samples_leaf': 1, 'min_samples_split': 10, 'n_estimators': 100}\n",
      "0.9918, 0.0006 | 0.9839, 0.0095 -for-> {'bootstrap': False, 'max_depth': None, 'min_samples_leaf': 1, 'min_samples_split': 10, 'n_estimators': 300}\n",
      "0.9933, 0.0004 | 0.9862, 0.0070 -for-> {'bootstrap': False, 'max_depth': None, 'min_samples_leaf': 3, 'min_samples_split': 2, 'n_estimators': 100}\n",
      "0.9933, 0.0004 | 0.9865, 0.0065 -for-> {'bootstrap': False, 'max_depth': None, 'min_samples_leaf': 3, 'min_samples_split': 2, 'n_estimators': 300}\n",
      "0.9933, 0.0004 | 0.9866, 0.0062 -for-> {'bootstrap': False, 'max_depth': None, 'min_samples_leaf': 3, 'min_samples_split': 3, 'n_estimators': 100}\n",
      "0.9933, 0.0004 | 0.9864, 0.0067 -for-> {'bootstrap': False, 'max_depth': None, 'min_samples_leaf': 3, 'min_samples_split': 3, 'n_estimators': 300}\n",
      "0.9905, 0.0008 | 0.9832, 0.0085 -for-> {'bootstrap': False, 'max_depth': None, 'min_samples_leaf': 3, 'min_samples_split': 10, 'n_estimators': 100}\n",
      "0.9905, 0.0006 | 0.9834, 0.0087 -for-> {'bootstrap': False, 'max_depth': None, 'min_samples_leaf': 3, 'min_samples_split': 10, 'n_estimators': 300}\n",
      "0.9507, 0.0044 | 0.9458, 0.0194 -for-> {'bootstrap': False, 'max_depth': None, 'min_samples_leaf': 10, 'min_samples_split': 2, 'n_estimators': 100}\n",
      "0.9522, 0.0039 | 0.9468, 0.0149 -for-> {'bootstrap': False, 'max_depth': None, 'min_samples_leaf': 10, 'min_samples_split': 2, 'n_estimators': 300}\n",
      "0.9500, 0.0053 | 0.9442, 0.0186 -for-> {'bootstrap': False, 'max_depth': None, 'min_samples_leaf': 10, 'min_samples_split': 3, 'n_estimators': 100}\n",
      "0.9537, 0.0029 | 0.9476, 0.0168 -for-> {'bootstrap': False, 'max_depth': None, 'min_samples_leaf': 10, 'min_samples_split': 3, 'n_estimators': 300}\n",
      "0.9491, 0.0056 | 0.9422, 0.0178 -for-> {'bootstrap': False, 'max_depth': None, 'min_samples_leaf': 10, 'min_samples_split': 10, 'n_estimators': 100}\n",
      "0.9517, 0.0028 | 0.9461, 0.0198 -for-> {'bootstrap': False, 'max_depth': None, 'min_samples_leaf': 10, 'min_samples_split': 10, 'n_estimators': 300}\n",
      "----------------\n",
      "best params: {'bootstrap': False, 'max_depth': None, 'min_samples_leaf': 1, 'min_samples_split': 3, 'n_estimators': 300}\n",
      "Scores: training=0.9869, testing=0.9894\n"
     ]
    }
   ],
   "source": [
    "# Finding the best model based on the best parameters\n",
    "best_model = None\n",
    "best_model_test_score = 0\n",
    "\n",
    "for model_set in models:\n",
    "    model = model_set['model']\n",
    "    print('\\n', model.__class__.__name__)\n",
    "    model_name = model.__class__.__name__\n",
    "    param_distributions = model_set['param_distributions']\n",
    "    gs = GridSearchCV(\n",
    "        model, param_distributions, scoring='r2', cv=10, return_train_score=True, n_jobs=-1, verbose=2)\n",
    "    if model_name == 'LinearRegression':\n",
    "        gs.fit(X_poly_train, y_train)\n",
    "    else:\n",
    "        gs.fit(X_train, y_train)\n",
    "   \n",
    "\n",
    "    cvres = gs.cv_results_\n",
    "    for mean_train_score, std_train_score, mean_test_score, std_test_score, params in zip(cvres['mean_train_score'], cvres['std_train_score'], cvres['mean_test_score'], cvres['std_test_score'], cvres['params']):\n",
    "        print(f'{mean_train_score:.4f}, {std_train_score:.4f} | {mean_test_score:.4f}, {std_test_score:.4f}', \"-for->\", params)\n",
    "\n",
    "    model = gs.best_estimator_\n",
    "    train_score = gs.best_score_\n",
    "    if model_name == 'LinearRegression':\n",
    "        test_score = model.score(X=X_poly_test, y=y_test)\n",
    "    else:\n",
    "        test_score = model.score(X=X_test, y=y_test)\n",
    "            \n",
    "    print('----------------\\nbest params:', gs.best_params_)\n",
    "    print(f'Scores: training={train_score:.4f}, testing={test_score:.4f}')\n",
    "\n",
    "    model_set['model'] = model\n",
    "    model_set['train_score'] = train_score\n",
    "    model_set['test_score'] = test_score"
   ]
  },
  {
   "cell_type": "markdown",
   "metadata": {},
   "source": [
    "### Plot Learning Curves"
   ]
  },
  {
   "cell_type": "code",
   "execution_count": 17,
   "metadata": {
    "scrolled": false
   },
   "outputs": [
    {
     "data": {
      "image/png": "[encoded data removed]",
      "text/plain": [
       "<Figure size 432x288 with 1 Axes>"
      ]
     },
     "metadata": {
      "needs_background": "light"
     },
     "output_type": "display_data"
    },
    {
     "data": {
      "image/png": "[encoded data removed]",
      "text/plain": [
       "<Figure size 432x288 with 1 Axes>"
      ]
     },
     "metadata": {
      "needs_background": "light"
     },
     "output_type": "display_data"
    },
    {
     "data": {
      "image/png": "[encoded data removed]",
      "text/plain": [
       "<Figure size 432x288 with 1 Axes>"
      ]
     },
     "metadata": {
      "needs_background": "light"
     },
     "output_type": "display_data"
    },
    {
     "data": {
      "image/png": "[encoded data removed]",
      "text/plain": [
       "<Figure size 432x288 with 1 Axes>"
      ]
     },
     "metadata": {
      "needs_background": "light"
     },
     "output_type": "display_data"
    },
    {
     "data": {
      "image/png": "[encoded data removed]",
      "text/plain": [
       "<Figure size 432x288 with 1 Axes>"
      ]
     },
     "metadata": {
      "needs_background": "light"
     },
     "output_type": "display_data"
    }
   ],
   "source": [
    "def plot_learning_curve(estimator, title, X, y, ylim=None, cv=None,\n",
    "                        n_jobs=-1, train_sizes=np.linspace(0.1, 1, 5)):\n",
    "    \"\"\"\n",
    "    Generate a simple plot of the training and validation learning curve\n",
    "    \"\"\"\n",
    "    plt.figure()\n",
    "    plt.title(title)\n",
    "    if ylim is not None:\n",
    "        plt.ylim(*ylim)\n",
    "    plt.xlabel(\"% of Training dataset\",**axis_font)\n",
    "    plt.ylabel(\"Score\",**axis_font)\n",
    "    train_sizes, train_scores, test_scores = learning_curve(\n",
    "        estimator, X, y, cv=cv, n_jobs=n_jobs, train_sizes=train_sizes\n",
    "    )\n",
    "    train_scores_mean = np.mean(train_scores, axis=1)\n",
    "    train_scores_std = np.std(train_scores, axis=1)\n",
    "    test_scores_mean = np.mean(test_scores, axis=1)\n",
    "    test_scores_std = np.std(test_scores, axis=1)\n",
    "    \n",
    "    train_size_percentage = train_sizes/160*100\n",
    "    \n",
    "    plt.grid()\n",
    "    plt.fill_between(train_size_percentage, train_scores_mean - train_scores_std,\n",
    "                     train_scores_mean + train_scores_std, alpha=0.1,\n",
    "                     color=\"r\")\n",
    "    plt.fill_between(train_size_percentage, test_scores_mean - test_scores_std,\n",
    "                     test_scores_mean + test_scores_std, alpha=0.1, color=\"g\")\n",
    "    plt.plot(train_size_percentage, train_scores_mean, 'o-', color=\"r\",\n",
    "             label=\"Training score\")\n",
    "    plt.plot(train_size_percentage, test_scores_mean, 'o-', color=\"g\",\n",
    "             label=\"Cross-validation score\")\n",
    "\n",
    "    plt.legend(loc=\"best\")\n",
    "    return plt\n",
    "\n",
    "for model_set in models:\n",
    "    model = model_set['model']\n",
    "    model_name = model.__class__.__name__\n",
    "   \n",
    "   \n",
    "    if model_name == 'LinearRegression':\n",
    "        model_name = 'PolynomialRegression'\n",
    "        g = plot_learning_curve(model, model_name, X_poly_train, y_train, ylim=[0.9, 1], cv=kfold)\n",
    "    else:\n",
    "        g = plot_learning_curve(model, model_name, X_train, y_train, ylim=[0.9, 1], cv=kfold)"
   ]
  },
  {
   "cell_type": "markdown",
   "metadata": {},
   "source": [
    "The learning curves plotted above for each model are representation of R2 scores for training and cross validation as the % of training dataset is increased. The polynomial regression model learning curves shows that as the % of training dataset is increased the training and cross validation R2 scores are similar, which shows that the model is performing well. As seen for the other models, the training learning curve scores does not match the validation learning curve. Hence, just by observing the curves, Polynomial Regression model shows good performance.  "
   ]
  },
  {
   "cell_type": "markdown",
   "metadata": {},
   "source": [
    "### Permutation Feature Importance"
   ]
  },
  {
   "cell_type": "code",
   "execution_count": 18,
   "metadata": {},
   "outputs": [
    {
     "name": "stdout",
     "output_type": "stream",
     "text": [
      "PolynomialRegression\n",
      "[('T', 1669.2684914828108), ('P', 14.783940207745578), ('T^2', 18.71515112630361), ('TP', 6.011003092470284), ('P^2', 3.464011411837126)]\n"
     ]
    },
    {
     "data": {
      "image/png": "[encoded data removed]",
      "text/plain": [
       "<Figure size 504x288 with 1 Axes>"
      ]
     },
     "metadata": {
      "needs_background": "light"
     },
     "output_type": "display_data"
    },
    {
     "name": "stdout",
     "output_type": "stream",
     "text": [
      "RandomForestRegressor\n",
      "[('T', 1164.0757831452806), ('P', 34.40757447374989)]\n"
     ]
    },
    {
     "data": {
      "image/png": "[encoded data removed]",
      "text/plain": [
       "<Figure size 504x288 with 1 Axes>"
      ]
     },
     "metadata": {
      "needs_background": "light"
     },
     "output_type": "display_data"
    },
    {
     "name": "stdout",
     "output_type": "stream",
     "text": [
      "SVR\n",
      "[('T', 1278.4766001704702), ('P', 15.769434225953187)]\n"
     ]
    },
    {
     "data": {
      "image/png": "[encoded data removed]",
      "text/plain": [
       "<Figure size 504x288 with 1 Axes>"
      ]
     },
     "metadata": {
      "needs_background": "light"
     },
     "output_type": "display_data"
    },
    {
     "name": "stdout",
     "output_type": "stream",
     "text": [
      "AdaBoostRegressor\n",
      "[('T', 1153.7816255844123), ('P', 0.0)]\n"
     ]
    },
    {
     "data": {
      "image/png": "[encoded data removed]",
      "text/plain": [
       "<Figure size 504x288 with 1 Axes>"
      ]
     },
     "metadata": {
      "needs_background": "light"
     },
     "output_type": "display_data"
    },
    {
     "name": "stdout",
     "output_type": "stream",
     "text": [
      "ExtraTreesRegressor\n",
      "[('T', 1259.2467727507621), ('P', 16.970802401111882)]\n"
     ]
    },
    {
     "data": {
      "image/png": "[encoded data removed]",
      "text/plain": [
       "<Figure size 504x288 with 1 Axes>"
      ]
     },
     "metadata": {
      "needs_background": "light"
     },
     "output_type": "display_data"
    }
   ],
   "source": [
    "# Finding the importance of each feature based on the models \n",
    "def permu_important(estimator, title, X, y):\n",
    " \n",
    "     print(title)\n",
    "     results = permutation_importance(model, X, y, scoring='neg_mean_squared_error')\n",
    "     importance = results.importances_mean\n",
    "     print(list(zip(input_cols, importance)))\n",
    "     feature_importances_sorted = sorted(importance)\n",
    "     y_ticks_names = [x for _,x in sorted(zip(importance, input_cols))]\n",
    "     y_ticks = range(1,len(importance) + 1)\n",
    "\n",
    "     plt.rcParams['figure.figsize'] = [7, 4]\n",
    "     \n",
    "     fig, ax = plt.subplots()\n",
    "     ax.barh(y_ticks, feature_importances_sorted)\n",
    "     plt.yticks(y_ticks, y_ticks_names)\n",
    "     ax.set_ylabel('Featuers', **axis_font)\n",
    "     ax.set_title('Feature Importance', **title_font)\n",
    "     plt.title(title)\n",
    "     plt.xticks(fontsize=14)\n",
    "     plt.yticks(fontsize=14)\n",
    "     plt.show()\n",
    "\n",
    "    \n",
    "            \n",
    "for model_set in models:\n",
    "    model = model_set['model']\n",
    "    model_name = model.__class__.__name__\n",
    "    if model_name == 'LinearRegression':\n",
    "        model_name = 'PolynomialRegression'\n",
    "        input_cols = ['T', 'P','T^2','TP','P^2']\n",
    "        r= permu_important(model, model_name, X_poly_train, y_train)\n",
    "    else:\n",
    "        input_cols = ['T', 'P']\n",
    "        r= permu_important(model, model_name, X_train, y_train)"
   ]
  },
  {
   "cell_type": "markdown",
   "metadata": {},
   "source": [
    "Based on all the permutation feature results for all the models, it can be observed that the negative mean square error increases drastically for all the models as the feature T is permutated. Hence, it can be concluded that temperature (T) is the most important feature for each model. "
   ]
  },
  {
   "cell_type": "markdown",
   "metadata": {},
   "source": [
    "### Measured Vs. Predicted Density and MSE and R2 scores for training and testing data"
   ]
  },
  {
   "cell_type": "code",
   "execution_count": 19,
   "metadata": {
    "scrolled": false
   },
   "outputs": [
    {
     "name": "stdout",
     "output_type": "stream",
     "text": [
      "PolynomialRegression\n",
      "\n",
      "Final Model Results\n",
      "-----------------\n",
      "train: mse= 1.90, r2= 0.994344\n",
      "test : mse= 1.61, r2= 0.996256\n",
      "all  : mse= 1.86, r2= 0.994658\n"
     ]
    },
    {
     "data": {
      "image/png": "[encoded data removed]",
      "text/plain": [
       "<Figure size 1080x1080 with 2 Axes>"
      ]
     },
     "metadata": {
      "needs_background": "light"
     },
     "output_type": "display_data"
    },
    {
     "name": "stdout",
     "output_type": "stream",
     "text": [
      "RandomForestRegressor\n",
      "\n",
      "Final Model Results\n",
      "-----------------\n",
      "train: mse= 0.02, r2= 1.000000\n",
      "test : mse= 3.21, r2= 0.985143\n",
      "all  : mse= 1.26, r2= 0.997558\n"
     ]
    },
    {
     "data": {
      "image/png": "[encoded data removed]",
      "text/plain": [
       "<Figure size 1080x1080 with 2 Axes>"
      ]
     },
     "metadata": {
      "needs_background": "light"
     },
     "output_type": "display_data"
    },
    {
     "name": "stdout",
     "output_type": "stream",
     "text": [
      "SVR\n",
      "\n",
      "Final Model Results\n",
      "-----------------\n",
      "train: mse= 2.00, r2= 0.993732\n",
      "test : mse= 2.32, r2= 0.992236\n",
      "all  : mse= 2.06, r2= 0.993487\n"
     ]
    },
    {
     "data": {
      "image/png": "[encoded data removed]",
      "text/plain": [
       "<Figure size 1080x1080 with 2 Axes>"
      ]
     },
     "metadata": {
      "needs_background": "light"
     },
     "output_type": "display_data"
    },
    {
     "name": "stdout",
     "output_type": "stream",
     "text": [
      "AdaBoostRegressor\n",
      "\n",
      "Final Model Results\n",
      "-----------------\n",
      "train: mse= 5.21, r2= 0.957584\n",
      "test : mse= 7.33, r2= 0.922690\n",
      "all  : mse= 5.59, r2= 0.951851\n"
     ]
    },
    {
     "data": {
      "image/png": "[encoded data removed]",
      "text/plain": [
       "<Figure size 1080x1080 with 2 Axes>"
      ]
     },
     "metadata": {
      "needs_background": "light"
     },
     "output_type": "display_data"
    },
    {
     "name": "stdout",
     "output_type": "stream",
     "text": [
      "ExtraTreesRegressor\n",
      "\n",
      "Final Model Results\n",
      "-----------------\n",
      "train: mse= 1.35, r2= 0.997141\n",
      "test : mse= 2.71, r2= 0.989436\n",
      "all  : mse= 1.64, r2= 0.995875\n"
     ]
    },
    {
     "data": {
      "image/png": "[encoded data removed]",
      "text/plain": [
       "<Figure size 1080x1080 with 2 Axes>"
      ]
     },
     "metadata": {
      "needs_background": "light"
     },
     "output_type": "display_data"
    }
   ],
   "source": [
    "# Prediction of Density values based on each model followed by a plot between measured and predicted density values.\n",
    "# MSE and R2 scores also calculated based on measured and predicted values for training and testing dataset.\n",
    "for model_set in models:\n",
    "    model = model_set['model']\n",
    "    model_name = model.__class__.__name__\n",
    "    \n",
    "    if model_name == 'LinearRegression':\n",
    "        model_name = 'PolynomialRegression'\n",
    "        y_pred       = model.predict(X_poly)\n",
    "        y_train_pred = model.predict(X_poly_train)\n",
    "        y_test_pred  = model.predict(X_poly_test)\n",
    "       \n",
    "    else: \n",
    "        y_pred       = model.predict(X)\n",
    "        y_train_pred = model.predict(X_train)\n",
    "        y_test_pred  = model.predict(X_test)\n",
    "\n",
    "    print(model_name)\n",
    "    mse_train = np.sqrt(metrics.mean_squared_error(y_train, y_train_pred))\n",
    "    r2_train = metrics.r2_score(y_train, y_train_pred)\n",
    "\n",
    "    mse_test = np.sqrt(metrics.mean_squared_error(y_test, y_test_pred))\n",
    "    r2_test = metrics.r2_score(y_test, y_test_pred)\n",
    "    \n",
    "    mse = np.sqrt(metrics.mean_squared_error(y, y_pred))\n",
    "    r2 = metrics.r2_score(y, y_pred)\n",
    "    print('\\nFinal Model Results\\n-----------------')\n",
    "    print('train: mse= {0:.2f}, r2= {1:02f}'.format(mse_train, r2_train))\n",
    "    print('test : mse= {0:.2f}, r2= {1:02f}'.format(mse_test, r2_test))\n",
    "    print('all  : mse= {0:.2f}, r2= {1:02f}'.format(mse, r2))\n",
    "\n",
    "    plt.rcParams['figure.figsize'] = [15, 15]\n",
    "    fig, (ax1,ax2) = plt.subplots(1,2)\n",
    "    ax1.scatter(y_train, y_train_pred)\n",
    "    ax1.plot([y_train.min(), y_train.max()], [y_train.min(), y_train.max()], 'k--', lw=1)\n",
    "    ax1.set_xlabel('Measured Y train', **axis_font)\n",
    "    ax1.set_ylabel('Predicted Y train', **axis_font)\n",
    "    ax1.set_title('Density Cross Plot (Training)', **title_font)\n",
    "    ax2.scatter(y_test, y_test_pred)\n",
    "    ax2.plot([y_test.min(), y_test.max()], [y_test.min(), y_test.max()], 'k--', lw=1)\n",
    "    ax2.set_xlabel('Measured Y test', **axis_font)\n",
    "    ax2.set_ylabel('Predicted Y test', **axis_font)\n",
    "    ax2.set_title('Density Cross Plot (Testing)', **title_font)\n",
    "    plt.xticks(fontsize=10)\n",
    "    plt.yticks(fontsize=10)\n",
    "    plt.show()"
   ]
  },
  {
   "cell_type": "markdown",
   "metadata": {},
   "source": [
    "The above plots are representation of measured vs. predicted density values for all the five models for training and testing data. As observed in the plots above, the mse and r2 values for the polynomial regression model for both training and testing data are very similar. For other models the mse and r2 values are different and models are not performing well while predicting densities. Hence based on the measured vs. predicted plots for training and testing data, it can be concluded that polynomial regression can be the best performing model. "
   ]
  },
  {
   "cell_type": "markdown",
   "metadata": {},
   "source": [
    "After analyzing all the results above, which includes cross validation, learning curves, permutation feature importance and predicted and measured density values, it can be concluded that polynomial regression is the best performing model as compared to all the other models. Since Polynomial Regression is selected as best performing model, only its being used to perform furture analysis such as to plot Heatmap of relative percentage error, to plot contour map based on predicted density values and to extract density equation. "
   ]
  },
  {
   "cell_type": "markdown",
   "metadata": {},
   "source": [
    "### Heatmap of Relative Percent Error"
   ]
  },
  {
   "cell_type": "code",
   "execution_count": 20,
   "metadata": {},
   "outputs": [
    {
     "name": "stdout",
     "output_type": "stream",
     "text": [
      "PolynomialRegression\n"
     ]
    },
    {
     "data": {
      "image/png": "[encoded data removed]",
      "text/plain": [
       "<Figure size 1080x864 with 2 Axes>"
      ]
     },
     "metadata": {
      "needs_background": "light"
     },
     "output_type": "display_data"
    }
   ],
   "source": [
    "# Heatmap of Relative precent error for Density based on Polynomial regression \n",
    "for model_set in models:\n",
    "    model = model_set['model']\n",
    "    model_name = model.__class__.__name__\n",
    "    \n",
    "    if model_name == 'LinearRegression':\n",
    "        model_name = 'PolynomialRegression'\n",
    "        df2 = density_df\n",
    "        df2['Density_pred'] = model.predict(X_poly)\n",
    "        df2['Density_err'] = np.abs(df2['Density'] - df2['Density_pred'])\n",
    "\n",
    "    # create the heatmap\n",
    "        print(model_name)\n",
    "        min_points_per_grid = 1\n",
    "        divs = 20\n",
    "        T_bins = np.linspace(min(df2['T']), max(df2['T']), divs + 1)\n",
    "        P_bins = np.linspace(min(df2['P']), max(df2['P']), divs + 1)\n",
    "        T_ticks_heatmap = np.round([(T_bins[i-1] + T_bins[i])/2 for i in range(1, len(T_bins))], 1)    \n",
    "        P_ticks_heatmap = np.round([(P_bins[i-1] + P_bins[i])/2 for i in range(1, len(P_bins))], 1)\n",
    "\n",
    "        df_heatmap = df2[['T', 'P', 'Density', 'Density_err']].groupby(\n",
    "        [pd.cut(df2['T'], bins=T_bins),pd.cut(df2['P'], bins=P_bins)]).aggregate(lambda x: tuple(x))\n",
    "\n",
    "        for i in df_heatmap.index:\n",
    "            if df_heatmap.loc[i, 'T'] is np.nan or None:\n",
    "                df_heatmap.loc[i, 'Density_err_median'] = np.nan\n",
    "            else:\n",
    "                if len(tuple(df_heatmap.loc[i, 'Density_err'])) >= min_points_per_grid:\n",
    "                    df_heatmap.loc[i, 'Density_err_median'] = np.median(df_heatmap.loc[i, 'Density_err']) / np.median(df_heatmap.loc[i, 'Density']) * 100\n",
    "                else:\n",
    "                    df_heatmap.loc[i, 'Density_err_median'] = np.nan\n",
    "\n",
    "        fig, ax2 = plt.subplots(figsize=(15,12))\n",
    "        pal = sns.color_palette(\"RdYlGn_r\", 40)    \n",
    "        ax2 = sns.heatmap(data=np.array(df_heatmap['Density_err_median'].to_numpy()).reshape((divs, divs)),\n",
    "                  xticklabels=T_ticks_heatmap, yticklabels=P_ticks_heatmap,\n",
    "                  linewidths=1,\n",
    "                  cmap=pal)\n",
    "        ax2.invert_yaxis()\n",
    "        ax2.set_xlabel(r\"T($^\\circ$C)\", **axis_font)\n",
    "        ax2.set_ylabel(\"P($MPa$)\", **axis_font)\n",
    "        ax2.set_title(\"Relative percent error for Density (%)\", **title_font)\n",
    "        plt.xticks(fontsize=10)\n",
    "        plt.yticks(fontsize=10)\n",
    "\n",
    "        cax = plt.gcf().axes[-1]\n",
    "        cax.tick_params(labelsize=10)\n",
    "\n",
    "        plt.show()"
   ]
  },
  {
   "cell_type": "code",
   "execution_count": 21,
   "metadata": {},
   "outputs": [],
   "source": [
    "# 400 T and P pairs generated to predict Density \n",
    "T = []\n",
    "P = []\n",
    "df2 = density_df\n",
    "divs = 20\n",
    "T_bins = np.linspace(min(df2['T']), max(df2['T']), divs + 1)\n",
    "P_bins = np.linspace(min(df2['P']), max(df2['P']), divs + 1)\n",
    "T_ticks_heatmap = np.round([(T_bins[i-1] + T_bins[i])/2 for i in range(1, len(T_bins))], 1)    \n",
    "P_ticks_heatmap = np.round([(P_bins[i-1] + P_bins[i])/2 for i in range(1, len(P_bins))], 1)\n",
    "\n",
    "for i in range(len(T_ticks_heatmap)) :\n",
    "    for j in range(len(P_ticks_heatmap)) :\n",
    "        T.append(T_ticks_heatmap[i])\n",
    "        P.append(P_ticks_heatmap[j])    "
   ]
  },
  {
   "cell_type": "markdown",
   "metadata": {},
   "source": [
    "## Contour Plot "
   ]
  },
  {
   "cell_type": "code",
   "execution_count": 22,
   "metadata": {
    "scrolled": false
   },
   "outputs": [
    {
     "data": {
      "application/vnd.plotly.v1+json": {
       "config": {
        "plotlyServerURL": "https://plot.ly"
       },
       "data": [
        {
         "type": "contour",
         "x": [
          27.2,
          27.2,
          27.2,
          27.2,
          27.2,
          27.2,
          27.2,
          27.2,
          27.2,
          27.2,
          27.2,
          27.2,
          27.2,
          27.2,
          27.2,
          27.2,
          27.2,
          27.2,
          27.2,
          27.2,
          35.5,
          35.5,
          35.5,
          35.5,
          35.5,
          35.5,
          35.5,
          35.5,
          35.5,
          35.5,
          35.5,
          35.5,
          35.5,
          35.5,
          35.5,
          35.5,
          35.5,
          35.5,
          35.5,
          35.5,
          43.9,
          43.9,
          43.9,
          43.9,
          43.9,
          43.9,
          43.9,
          43.9,
          43.9,
          43.9,
          43.9,
          43.9,
          43.9,
          43.9,
          43.9,
          43.9,
          43.9,
          43.9,
          43.9,
          43.9,
          52.2,
          52.2,
          52.2,
          52.2,
          52.2,
          52.2,
          52.2,
          52.2,
          52.2,
          52.2,
          52.2,
          52.2,
          52.2,
          52.2,
          52.2,
          52.2,
          52.2,
          52.2,
          52.2,
          52.2,
          60.6,
          60.6,
          60.6,
          60.6,
          60.6,
          60.6,
          60.6,
          60.6,
          60.6,
          60.6,
          60.6,
          60.6,
          60.6,
          60.6,
          60.6,
          60.6,
          60.6,
          60.6,
          60.6,
          60.6,
          68.9,
          68.9,
          68.9,
          68.9,
          68.9,
          68.9,
          68.9,
          68.9,
          68.9,
          68.9,
          68.9,
          68.9,
          68.9,
          68.9,
          68.9,
          68.9,
          68.9,
          68.9,
          68.9,
          68.9,
          77.3,
          77.3,
          77.3,
          77.3,
          77.3,
          77.3,
          77.3,
          77.3,
          77.3,
          77.3,
          77.3,
          77.3,
          77.3,
          77.3,
          77.3,
          77.3,
          77.3,
          77.3,
          77.3,
          77.3,
          85.6,
          85.6,
          85.6,
          85.6,
          85.6,
          85.6,
          85.6,
          85.6,
          85.6,
          85.6,
          85.6,
          85.6,
          85.6,
          85.6,
          85.6,
          85.6,
          85.6,
          85.6,
          85.6,
          85.6,
          94,
          94,
          94,
          94,
          94,
          94,
          94,
          94,
          94,
          94,
          94,
          94,
          94,
          94,
          94,
          94,
          94,
          94,
          94,
          94,
          102.3,
          102.3,
          102.3,
          102.3,
          102.3,
          102.3,
          102.3,
          102.3,
          102.3,
          102.3,
          102.3,
          102.3,
          102.3,
          102.3,
          102.3,
          102.3,
          102.3,
          102.3,
          102.3,
          102.3,
          110.7,
          110.7,
          110.7,
          110.7,
          110.7,
          110.7,
          110.7,
          110.7,
          110.7,
          110.7,
          110.7,
          110.7,
          110.7,
          110.7,
          110.7,
          110.7,
          110.7,
          110.7,
          110.7,
          110.7,
          119,
          119,
          119,
          119,
          119,
          119,
          119,
          119,
          119,
          119,
          119,
          119,
          119,
          119,
          119,
          119,
          119,
          119,
          119,
          119,
          127.4,
          127.4,
          127.4,
          127.4,
          127.4,
          127.4,
          127.4,
          127.4,
          127.4,
          127.4,
          127.4,
          127.4,
          127.4,
          127.4,
          127.4,
          127.4,
          127.4,
          127.4,
          127.4,
          127.4,
          135.7,
          135.7,
          135.7,
          135.7,
          135.7,
          135.7,
          135.7,
          135.7,
          135.7,
          135.7,
          135.7,
          135.7,
          135.7,
          135.7,
          135.7,
          135.7,
          135.7,
          135.7,
          135.7,
          135.7,
          144.1,
          144.1,
          144.1,
          144.1,
          144.1,
          144.1,
          144.1,
          144.1,
          144.1,
          144.1,
          144.1,
          144.1,
          144.1,
          144.1,
          144.1,
          144.1,
          144.1,
          144.1,
          144.1,
          144.1,
          152.4,
          152.4,
          152.4,
          152.4,
          152.4,
          152.4,
          152.4,
          152.4,
          152.4,
          152.4,
          152.4,
          152.4,
          152.4,
          152.4,
          152.4,
          152.4,
          152.4,
          152.4,
          152.4,
          152.4,
          160.8,
          160.8,
          160.8,
          160.8,
          160.8,
          160.8,
          160.8,
          160.8,
          160.8,
          160.8,
          160.8,
          160.8,
          160.8,
          160.8,
          160.8,
          160.8,
          160.8,
          160.8,
          160.8,
          160.8,
          169.1,
          169.1,
          169.1,
          169.1,
          169.1,
          169.1,
          169.1,
          169.1,
          169.1,
          169.1,
          169.1,
          169.1,
          169.1,
          169.1,
          169.1,
          169.1,
          169.1,
          169.1,
          169.1,
          169.1,
          177.5,
          177.5,
          177.5,
          177.5,
          177.5,
          177.5,
          177.5,
          177.5,
          177.5,
          177.5,
          177.5,
          177.5,
          177.5,
          177.5,
          177.5,
          177.5,
          177.5,
          177.5,
          177.5,
          177.5,
          185.8,
          185.8,
          185.8,
          185.8,
          185.8,
          185.8,
          185.8,
          185.8,
          185.8,
          185.8,
          185.8,
          185.8,
          185.8,
          185.8,
          185.8,
          185.8,
          185.8,
          185.8,
          185.8,
          185.8
         ],
         "y": [
          1.2,
          1.9,
          2.5,
          3.2,
          3.8,
          4.5,
          5.1,
          5.8,
          6.4,
          7.1,
          7.7,
          8.4,
          9,
          9.7,
          10.3,
          11,
          11.6,
          12.3,
          12.9,
          13.6,
          1.2,
          1.9,
          2.5,
          3.2,
          3.8,
          4.5,
          5.1,
          5.8,
          6.4,
          7.1,
          7.7,
          8.4,
          9,
          9.7,
          10.3,
          11,
          11.6,
          12.3,
          12.9,
          13.6,
          1.2,
          1.9,
          2.5,
          3.2,
          3.8,
          4.5,
          5.1,
          5.8,
          6.4,
          7.1,
          7.7,
          8.4,
          9,
          9.7,
          10.3,
          11,
          11.6,
          12.3,
          12.9,
          13.6,
          1.2,
          1.9,
          2.5,
          3.2,
          3.8,
          4.5,
          5.1,
          5.8,
          6.4,
          7.1,
          7.7,
          8.4,
          9,
          9.7,
          10.3,
          11,
          11.6,
          12.3,
          12.9,
          13.6,
          1.2,
          1.9,
          2.5,
          3.2,
          3.8,
          4.5,
          5.1,
          5.8,
          6.4,
          7.1,
          7.7,
          8.4,
          9,
          9.7,
          10.3,
          11,
          11.6,
          12.3,
          12.9,
          13.6,
          1.2,
          1.9,
          2.5,
          3.2,
          3.8,
          4.5,
          5.1,
          5.8,
          6.4,
          7.1,
          7.7,
          8.4,
          9,
          9.7,
          10.3,
          11,
          11.6,
          12.3,
          12.9,
          13.6,
          1.2,
          1.9,
          2.5,
          3.2,
          3.8,
          4.5,
          5.1,
          5.8,
          6.4,
          7.1,
          7.7,
          8.4,
          9,
          9.7,
          10.3,
          11,
          11.6,
          12.3,
          12.9,
          13.6,
          1.2,
          1.9,
          2.5,
          3.2,
          3.8,
          4.5,
          5.1,
          5.8,
          6.4,
          7.1,
          7.7,
          8.4,
          9,
          9.7,
          10.3,
          11,
          11.6,
          12.3,
          12.9,
          13.6,
          1.2,
          1.9,
          2.5,
          3.2,
          3.8,
          4.5,
          5.1,
          5.8,
          6.4,
          7.1,
          7.7,
          8.4,
          9,
          9.7,
          10.3,
          11,
          11.6,
          12.3,
          12.9,
          13.6,
          1.2,
          1.9,
          2.5,
          3.2,
          3.8,
          4.5,
          5.1,
          5.8,
          6.4,
          7.1,
          7.7,
          8.4,
          9,
          9.7,
          10.3,
          11,
          11.6,
          12.3,
          12.9,
          13.6,
          1.2,
          1.9,
          2.5,
          3.2,
          3.8,
          4.5,
          5.1,
          5.8,
          6.4,
          7.1,
          7.7,
          8.4,
          9,
          9.7,
          10.3,
          11,
          11.6,
          12.3,
          12.9,
          13.6,
          1.2,
          1.9,
          2.5,
          3.2,
          3.8,
          4.5,
          5.1,
          5.8,
          6.4,
          7.1,
          7.7,
          8.4,
          9,
          9.7,
          10.3,
          11,
          11.6,
          12.3,
          12.9,
          13.6,
          1.2,
          1.9,
          2.5,
          3.2,
          3.8,
          4.5,
          5.1,
          5.8,
          6.4,
          7.1,
          7.7,
          8.4,
          9,
          9.7,
          10.3,
          11,
          11.6,
          12.3,
          12.9,
          13.6,
          1.2,
          1.9,
          2.5,
          3.2,
          3.8,
          4.5,
          5.1,
          5.8,
          6.4,
          7.1,
          7.7,
          8.4,
          9,
          9.7,
          10.3,
          11,
          11.6,
          12.3,
          12.9,
          13.6,
          1.2,
          1.9,
          2.5,
          3.2,
          3.8,
          4.5,
          5.1,
          5.8,
          6.4,
          7.1,
          7.7,
          8.4,
          9,
          9.7,
          10.3,
          11,
          11.6,
          12.3,
          12.9,
          13.6,
          1.2,
          1.9,
          2.5,
          3.2,
          3.8,
          4.5,
          5.1,
          5.8,
          6.4,
          7.1,
          7.7,
          8.4,
          9,
          9.7,
          10.3,
          11,
          11.6,
          12.3,
          12.9,
          13.6,
          1.2,
          1.9,
          2.5,
          3.2,
          3.8,
          4.5,
          5.1,
          5.8,
          6.4,
          7.1,
          7.7,
          8.4,
          9,
          9.7,
          10.3,
          11,
          11.6,
          12.3,
          12.9,
          13.6,
          1.2,
          1.9,
          2.5,
          3.2,
          3.8,
          4.5,
          5.1,
          5.8,
          6.4,
          7.1,
          7.7,
          8.4,
          9,
          9.7,
          10.3,
          11,
          11.6,
          12.3,
          12.9,
          13.6,
          1.2,
          1.9,
          2.5,
          3.2,
          3.8,
          4.5,
          5.1,
          5.8,
          6.4,
          7.1,
          7.7,
          8.4,
          9,
          9.7,
          10.3,
          11,
          11.6,
          12.3,
          12.9,
          13.6,
          1.2,
          1.9,
          2.5,
          3.2,
          3.8,
          4.5,
          5.1,
          5.8,
          6.4,
          7.1,
          7.7,
          8.4,
          9,
          9.7,
          10.3,
          11,
          11.6,
          12.3,
          12.9,
          13.6
         ],
         "z": [
          1006.1773315742513,
          1006.6451518750293,
          1007.0300150226509,
          1007.4602087329898,
          1007.8128205173778,
          1008.2053876372775,
          1008.5257480584319,
          1008.8806885878925,
          1009.1687976458132,
          1009.4861115848347,
          1009.741969279522,
          1010.0216566281041,
          1010.2452629595579,
          1010.4873237177009,
          1010.678678685921,
          1010.8831128536249,
          1011.0422164586114,
          1011.209024035876,
          1011.335876277629,
          1011.4650572644546,
          1000.6916233548068,
          1001.1773557657136,
          1001.5775721505885,
          1002.0256779710561,
          1002.3936429926973,
          1002.8041222227259,
          1003.1398358811335,
          1003.5126885207229,
          1003.816150815897,
          1004.1513768650472,
          1004.4225877969877,
          1004.7201872556988,
          1004.9591468244057,
          1005.2191196926775,
          1005.4258278981508,
          1005.6481741759835,
          1005.8226310182233,
          1006.0073507056168,
          1006.1495561846231,
          1006.2966492815774,
          995.1856278151595,
          995.689488144751,
          996.1052427456411,
          996.5714764847934,
          996.9549797224499,
          997.3835868711631,
          997.7348387455861,
          998.12581930386,
          998.4448198150494,
          998.7981737828842,
          999.08492293084,
          999.4006503082356,
          999.6551480929579,
          999.9332488799143,
          1000.155495301403,
          1000.3959694979203,
          1000.5859645561754,
          1000.7888121622534,
          1000.946555857275,
          1001.1117768729139,
          989.7904400872059,
          990.3122125269261,
          990.7433203650696,
          991.2274662143507,
          991.6263226892605,
          992.0728419481023,
          992.4394470597787,
          992.8483397281814,
          993.1826934766241,
          993.5539595545877,
          993.8560619397967,
          994.1897014273211,
          994.4595524492967,
          994.7555653463819,
          994.9931650051238,
          995.2515513117698,
          995.4568996072783,
          995.6776593234852,
          995.85075625576,
          996.0338893815276,
          984.3760556473808,
          984.9159560057856,
          985.3626020599444,
          985.86487582791,
          986.2792705188352,
          986.7439176963617,
          987.1260610240533,
          987.5530816111406,
          987.9029735755986,
          988.2923675722468,
          988.6100081734712,
          988.9617755796802,
          989.2471648176711,
          989.5613056334408,
          989.8144435081981,
          990.0909577335287,
          990.3118442450525,
          990.5507318799439,
          990.7393670282341,
          990.9406280726863,
          979.0713884109182,
          979.6292008794518,
          980.0912001708638,
          980.6113860489583,
          981.0411339771367,
          981.523693264792,
          981.9211898297368,
          982.366122526953,
          982.7313677286642,
          983.1386738354411,
          983.4716676739189,
          983.8413471902566,
          984.1420896655007,
          984.4741425913993,
          984.7426337034099,
          985.0370600388693,
          985.2732997876462,
          985.5300995326666,
          985.73408791821,
          985.9532610727911,
          973.7486150709152,
          974.3245554581334,
          974.8020929655607,
          975.3404067623397,
          975.7856929065335,
          976.2863801128734,
          976.6994148938336,
          977.1624755097342,
          977.5432589274609,
          977.9686929529224,
          978.3172250074155,
          978.7050324424378,
          979.0213131336973,
          979.3714939782805,
          979.6555233063063,
          979.9680775604503,
          980.2198555252427,
          980.4947831889475,
          980.7143097905063,
          980.9516108637719,
          968.5344683259435,
          969.1283208232904,
          969.621211567971,
          970.1774374748788,
          970.6380768563259,
          971.1566761727946,
          971.5850641910081,
          972.0660369170375,
          972.4621735720174,
          972.9055197076077,
          973.269404999354,
          973.6751245445051,
          974.006758473018,
          974.3748514277298,
          974.674233993009,
          975.0047003572818,
          975.2718315593274,
          975.5646713331611,
          975.799551171973,
          976.0547643553675,
          963.3033060857626,
          963.9152865017942,
          964.4237154624902,
          964.9980692880825,
          965.474246885545,
          966.0109741206982,
          966.454900354927,
          966.954000999641,
          967.3656758706363,
          967.8271499249112,
          968.2065734326728,
          968.6304208965084,
          968.9775930410366,
          969.3638139144331,
          969.6787346957276,
          970.027328978685,
          970.3099983967459,
          970.6209660892641,
          970.8713841440915,
          971.1447252461704,
          958.1796798322819,
          958.8095723584422,
          959.3333545563914,
          959.9256204921127,
          960.4171513268283,
          960.9717906721103,
          961.4310701435924,
          961.9480828984352,
          962.3751110066837,
          962.8544971710874,
          963.2492739161023,
          963.6910334900667,
          964.0535588718482,
          964.4576918553735,
          964.7879658739213,
          965.1544722670073,
          965.4524949223215,
          965.7813747249686,
          966.0471460170492,
          966.338399229257,
          953.0401286919232,
          953.6881491367681,
          954.2274695507326,
          954.8378634051385,
          955.3449324558694,
          955.917699719836,
          956.3925174073335,
          956.9276580808609,
          957.3702244051246,
          957.8677384882129,
          958.2780534492432,
          958.7379409418922,
          959.1160045396889,
          959.5382654418988,
          959.884077676462,
          960.2687119882327,
          960.5822728595622,
          960.9292805808938,
          961.2105900889898,
          961.5199712198821,
          948.0070229299333,
          948.6729554849071,
          949.2276291361248,
          949.8559351006594,
          950.3783573886437,
          950.969036762739,
          951.4592076874898,
          952.012260471146,
          952.470180032663,
          952.98560622588,
          953.4112744241636,
          953.8890740269414,
          954.2824908619914,
          954.7226638743301,
          955.0838293461466,
          955.4863757680461,
          955.8152898766289,
          956.1802097080891,
          956.4768724534384,
          956.8041656944596,
          942.9590828893968,
          943.6431433630551,
          944.2133552302882,
          944.8597891135074,
          945.397749617507,
          946.0065569102869,
          946.512266051053,
          947.0834467533938,
          947.5569045309262,
          948.0904586428278,
          948.5316650571267,
          949.0275925785891,
          949.4365476296545,
          949.8948485606777,
          950.2715522485094,
          950.6922265890935,
          951.0366789136916,
          951.4197266638366,
          951.7319276252011,
          952.0773487849069,
          938.0164976188979,
          938.718470202685,
          939.3040353071714,
          939.9683813005194,
          940.5216950417722,
          941.148414444681,
          941.6694768227002,
          942.2585696351698,
          942.7473806499555,
          943.2988468719859,
          943.755406523538,
          944.2692461551293,
          944.6935544434479,
          945.1697674845999,
          945.5618244096848,
          946.0004108603978,
          946.3602164222492,
          946.7611762825229,
          947.0887304811407,
          947.4520637509753,
          933.0601686781835,
          933.7802691806552,
          934.3813725011569,
          935.0638464131894,
          935.6326983704577,
          936.2775456920509,
          936.8141462860856,
          937.4213670172397,
          937.9257162480408,
          938.4953103887558,
          938.9674082563232,
          939.499375806599,
          939.9392223109329,
          940.4335632707696,
          940.8411584118699,
          941.2978727812674,
          941.6732165591341,
          942.0923043380924,
          942.4353967527255,
          942.8168579412447,
          928.2081038991755,
          928.9461165117759,
          929.562573069531,
          930.2629590916922,
          930.8471642862137,
          931.5099237179359,
          932.0618775492237,
          932.6870103905067,
          933.206712858561,
          933.7942191094048,
          934.2816702142255,
          934.8315498746301,
          935.2867496162173,
          935.7990026861827,
          936.2219510645363,
          936.6965775440625,
          937.0872745591826,
          937.5242744482697,
          937.8827201001561,
          938.282093398804,
          923.3433860582833,
          924.0995265895683,
          924.7315213633386,
          925.4500353041846,
          926.0497787147214,
          926.730666065128,
          927.2981581124312,
          927.9414188723988,
          928.4766595564685,
          929.0822937259968,
          929.5852830468328,
          930.1532906259221,
          930.6240285835245,
          931.1544095721745,
          931.5928961665435,
          932.0856505647542,
          932.4918857958896,
          932.9470136036613,
          933.320997471563,
          933.7384986888956,
          918.5818417707662,
          919.35589441218,
          920.0032424232037,
          920.7396684741783,
          921.3547651219684,
          922.0535645825039,
          922.6364098670604,
          923.2975827371566,
          923.8481766584796,
          924.4717229381367,
          924.9900654962261,
          925.5759851854441,
          926.0620763802998,
          926.6103694790786,
          927.0642093107008,
          927.5748758190405,
          927.996464287429,
          928.4695042053295,
          928.8588413104845,
          929.2942546379459,
          913.8087350296961,
          914.6009155897945,
          915.2638018168335,
          916.0183557864927,
          916.6489906502981,
          917.3659180295182,
          917.96430153009,
          918.6436023188709,
          919.2097344562092,
          919.8514086545508,
          920.3852894286556,
          920.9893370365581,
          921.4909664474292,
          922.0573874648926,
          922.5267655125301,
          923.0555599395543,
          923.4926866239583,
          923.9838544605433,
          924.3887297817137,
          924.8422710278595,
          909.13771123367,
          909.9478039038971,
          910.6260433681894,
          911.3985094479774,
          912.0444975490361,
          912.7793370383849,
          913.39307377621,
          914.0902866751197,
          914.6717720497112,
          915.3313583581818,
          915.8805923695397,
          916.5025520875711,
          917.0195347356954,
          917.6038678632875,
          918.0885991481783,
          918.6353056853313,
          919.0877856069886,
          919.5968655537024,
          920.0170941121261,
          920.4885474684007
         ]
        }
       ],
       "layout": {
        "legend": {
         "title": {
          "text": "Density"
         }
        },
        "template": {
         "data": {
          "bar": [
           {
            "error_x": {
             "color": "#2a3f5f"
            },
            "error_y": {
             "color": "#2a3f5f"
            },
            "marker": {
             "line": {
              "color": "#E5ECF6",
              "width": 0.5
             },
             "pattern": {
              "fillmode": "overlay",
              "size": 10,
              "solidity": 0.2
             }
            },
            "type": "bar"
           }
          ],
          "barpolar": [
           {
            "marker": {
             "line": {
              "color": "#E5ECF6",
              "width": 0.5
             },
             "pattern": {
              "fillmode": "overlay",
              "size": 10,
              "solidity": 0.2
             }
            },
            "type": "barpolar"
           }
          ],
          "carpet": [
           {
            "aaxis": {
             "endlinecolor": "#2a3f5f",
             "gridcolor": "white",
             "linecolor": "white",
             "minorgridcolor": "white",
             "startlinecolor": "#2a3f5f"
            },
            "baxis": {
             "endlinecolor": "#2a3f5f",
             "gridcolor": "white",
             "linecolor": "white",
             "minorgridcolor": "white",
             "startlinecolor": "#2a3f5f"
            },
            "type": "carpet"
           }
          ],
          "choropleth": [
           {
            "colorbar": {
             "outlinewidth": 0,
             "ticks": ""
            },
            "type": "choropleth"
           }
          ],
          "contour": [
           {
            "colorbar": {
             "outlinewidth": 0,
             "ticks": ""
            },
            "colorscale": [
             [
              0,
              "#0d0887"
             ],
             [
              0.1111111111111111,
              "#46039f"
             ],
             [
              0.2222222222222222,
              "#7201a8"
             ],
             [
              0.3333333333333333,
              "#9c179e"
             ],
             [
              0.4444444444444444,
              "#bd3786"
             ],
             [
              0.5555555555555556,
              "#d8576b"
             ],
             [
              0.6666666666666666,
              "#ed7953"
             ],
             [
              0.7777777777777778,
              "#fb9f3a"
             ],
             [
              0.8888888888888888,
              "#fdca26"
             ],
             [
              1,
              "#f0f921"
             ]
            ],
            "type": "contour"
           }
          ],
          "contourcarpet": [
           {
            "colorbar": {
             "outlinewidth": 0,
             "ticks": ""
            },
            "type": "contourcarpet"
           }
          ],
          "heatmap": [
           {
            "colorbar": {
             "outlinewidth": 0,
             "ticks": ""
            },
            "colorscale": [
             [
              0,
              "#0d0887"
             ],
             [
              0.1111111111111111,
              "#46039f"
             ],
             [
              0.2222222222222222,
              "#7201a8"
             ],
             [
              0.3333333333333333,
              "#9c179e"
             ],
             [
              0.4444444444444444,
              "#bd3786"
             ],
             [
              0.5555555555555556,
              "#d8576b"
             ],
             [
              0.6666666666666666,
              "#ed7953"
             ],
             [
              0.7777777777777778,
              "#fb9f3a"
             ],
             [
              0.8888888888888888,
              "#fdca26"
             ],
             [
              1,
              "#f0f921"
             ]
            ],
            "type": "heatmap"
           }
          ],
          "heatmapgl": [
           {
            "colorbar": {
             "outlinewidth": 0,
             "ticks": ""
            },
            "colorscale": [
             [
              0,
              "#0d0887"
             ],
             [
              0.1111111111111111,
              "#46039f"
             ],
             [
              0.2222222222222222,
              "#7201a8"
             ],
             [
              0.3333333333333333,
              "#9c179e"
             ],
             [
              0.4444444444444444,
              "#bd3786"
             ],
             [
              0.5555555555555556,
              "#d8576b"
             ],
             [
              0.6666666666666666,
              "#ed7953"
             ],
             [
              0.7777777777777778,
              "#fb9f3a"
             ],
             [
              0.8888888888888888,
              "#fdca26"
             ],
             [
              1,
              "#f0f921"
             ]
            ],
            "type": "heatmapgl"
           }
          ],
          "histogram": [
           {
            "marker": {
             "pattern": {
              "fillmode": "overlay",
              "size": 10,
              "solidity": 0.2
             }
            },
            "type": "histogram"
           }
          ],
          "histogram2d": [
           {
            "colorbar": {
             "outlinewidth": 0,
             "ticks": ""
            },
            "colorscale": [
             [
              0,
              "#0d0887"
             ],
             [
              0.1111111111111111,
              "#46039f"
             ],
             [
              0.2222222222222222,
              "#7201a8"
             ],
             [
              0.3333333333333333,
              "#9c179e"
             ],
             [
              0.4444444444444444,
              "#bd3786"
             ],
             [
              0.5555555555555556,
              "#d8576b"
             ],
             [
              0.6666666666666666,
              "#ed7953"
             ],
             [
              0.7777777777777778,
              "#fb9f3a"
             ],
             [
              0.8888888888888888,
              "#fdca26"
             ],
             [
              1,
              "#f0f921"
             ]
            ],
            "type": "histogram2d"
           }
          ],
          "histogram2dcontour": [
           {
            "colorbar": {
             "outlinewidth": 0,
             "ticks": ""
            },
            "colorscale": [
             [
              0,
              "#0d0887"
             ],
             [
              0.1111111111111111,
              "#46039f"
             ],
             [
              0.2222222222222222,
              "#7201a8"
             ],
             [
              0.3333333333333333,
              "#9c179e"
             ],
             [
              0.4444444444444444,
              "#bd3786"
             ],
             [
              0.5555555555555556,
              "#d8576b"
             ],
             [
              0.6666666666666666,
              "#ed7953"
             ],
             [
              0.7777777777777778,
              "#fb9f3a"
             ],
             [
              0.8888888888888888,
              "#fdca26"
             ],
             [
              1,
              "#f0f921"
             ]
            ],
            "type": "histogram2dcontour"
           }
          ],
          "mesh3d": [
           {
            "colorbar": {
             "outlinewidth": 0,
             "ticks": ""
            },
            "type": "mesh3d"
           }
          ],
          "parcoords": [
           {
            "line": {
             "colorbar": {
              "outlinewidth": 0,
              "ticks": ""
             }
            },
            "type": "parcoords"
           }
          ],
          "pie": [
           {
            "automargin": true,
            "type": "pie"
           }
          ],
          "scatter": [
           {
            "marker": {
             "colorbar": {
              "outlinewidth": 0,
              "ticks": ""
             }
            },
            "type": "scatter"
           }
          ],
          "scatter3d": [
           {
            "line": {
             "colorbar": {
              "outlinewidth": 0,
              "ticks": ""
             }
            },
            "marker": {
             "colorbar": {
              "outlinewidth": 0,
              "ticks": ""
             }
            },
            "type": "scatter3d"
           }
          ],
          "scattercarpet": [
           {
            "marker": {
             "colorbar": {
              "outlinewidth": 0,
              "ticks": ""
             }
            },
            "type": "scattercarpet"
           }
          ],
          "scattergeo": [
           {
            "marker": {
             "colorbar": {
              "outlinewidth": 0,
              "ticks": ""
             }
            },
            "type": "scattergeo"
           }
          ],
          "scattergl": [
           {
            "marker": {
             "colorbar": {
              "outlinewidth": 0,
              "ticks": ""
             }
            },
            "type": "scattergl"
           }
          ],
          "scattermapbox": [
           {
            "marker": {
             "colorbar": {
              "outlinewidth": 0,
              "ticks": ""
             }
            },
            "type": "scattermapbox"
           }
          ],
          "scatterpolar": [
           {
            "marker": {
             "colorbar": {
              "outlinewidth": 0,
              "ticks": ""
             }
            },
            "type": "scatterpolar"
           }
          ],
          "scatterpolargl": [
           {
            "marker": {
             "colorbar": {
              "outlinewidth": 0,
              "ticks": ""
             }
            },
            "type": "scatterpolargl"
           }
          ],
          "scatterternary": [
           {
            "marker": {
             "colorbar": {
              "outlinewidth": 0,
              "ticks": ""
             }
            },
            "type": "scatterternary"
           }
          ],
          "surface": [
           {
            "colorbar": {
             "outlinewidth": 0,
             "ticks": ""
            },
            "colorscale": [
             [
              0,
              "#0d0887"
             ],
             [
              0.1111111111111111,
              "#46039f"
             ],
             [
              0.2222222222222222,
              "#7201a8"
             ],
             [
              0.3333333333333333,
              "#9c179e"
             ],
             [
              0.4444444444444444,
              "#bd3786"
             ],
             [
              0.5555555555555556,
              "#d8576b"
             ],
             [
              0.6666666666666666,
              "#ed7953"
             ],
             [
              0.7777777777777778,
              "#fb9f3a"
             ],
             [
              0.8888888888888888,
              "#fdca26"
             ],
             [
              1,
              "#f0f921"
             ]
            ],
            "type": "surface"
           }
          ],
          "table": [
           {
            "cells": {
             "fill": {
              "color": "#EBF0F8"
             },
             "line": {
              "color": "white"
             }
            },
            "header": {
             "fill": {
              "color": "#C8D4E3"
             },
             "line": {
              "color": "white"
             }
            },
            "type": "table"
           }
          ]
         },
         "layout": {
          "annotationdefaults": {
           "arrowcolor": "#2a3f5f",
           "arrowhead": 0,
           "arrowwidth": 1
          },
          "autotypenumbers": "strict",
          "coloraxis": {
           "colorbar": {
            "outlinewidth": 0,
            "ticks": ""
           }
          },
          "colorscale": {
           "diverging": [
            [
             0,
             "#8e0152"
            ],
            [
             0.1,
             "#c51b7d"
            ],
            [
             0.2,
             "#de77ae"
            ],
            [
             0.3,
             "#f1b6da"
            ],
            [
             0.4,
             "#fde0ef"
            ],
            [
             0.5,
             "#f7f7f7"
            ],
            [
             0.6,
             "#e6f5d0"
            ],
            [
             0.7,
             "#b8e186"
            ],
            [
             0.8,
             "#7fbc41"
            ],
            [
             0.9,
             "#4d9221"
            ],
            [
             1,
             "#276419"
            ]
           ],
           "sequential": [
            [
             0,
             "#0d0887"
            ],
            [
             0.1111111111111111,
             "#46039f"
            ],
            [
             0.2222222222222222,
             "#7201a8"
            ],
            [
             0.3333333333333333,
             "#9c179e"
            ],
            [
             0.4444444444444444,
             "#bd3786"
            ],
            [
             0.5555555555555556,
             "#d8576b"
            ],
            [
             0.6666666666666666,
             "#ed7953"
            ],
            [
             0.7777777777777778,
             "#fb9f3a"
            ],
            [
             0.8888888888888888,
             "#fdca26"
            ],
            [
             1,
             "#f0f921"
            ]
           ],
           "sequentialminus": [
            [
             0,
             "#0d0887"
            ],
            [
             0.1111111111111111,
             "#46039f"
            ],
            [
             0.2222222222222222,
             "#7201a8"
            ],
            [
             0.3333333333333333,
             "#9c179e"
            ],
            [
             0.4444444444444444,
             "#bd3786"
            ],
            [
             0.5555555555555556,
             "#d8576b"
            ],
            [
             0.6666666666666666,
             "#ed7953"
            ],
            [
             0.7777777777777778,
             "#fb9f3a"
            ],
            [
             0.8888888888888888,
             "#fdca26"
            ],
            [
             1,
             "#f0f921"
            ]
           ]
          },
          "colorway": [
           "#636efa",
           "#EF553B",
           "#00cc96",
           "#ab63fa",
           "#FFA15A",
           "#19d3f3",
           "#FF6692",
           "#B6E880",
           "#FF97FF",
           "#FECB52"
          ],
          "font": {
           "color": "#2a3f5f"
          },
          "geo": {
           "bgcolor": "white",
           "lakecolor": "white",
           "landcolor": "#E5ECF6",
           "showlakes": true,
           "showland": true,
           "subunitcolor": "white"
          },
          "hoverlabel": {
           "align": "left"
          },
          "hovermode": "closest",
          "mapbox": {
           "style": "light"
          },
          "paper_bgcolor": "white",
          "plot_bgcolor": "#E5ECF6",
          "polar": {
           "angularaxis": {
            "gridcolor": "white",
            "linecolor": "white",
            "ticks": ""
           },
           "bgcolor": "#E5ECF6",
           "radialaxis": {
            "gridcolor": "white",
            "linecolor": "white",
            "ticks": ""
           }
          },
          "scene": {
           "xaxis": {
            "backgroundcolor": "#E5ECF6",
            "gridcolor": "white",
            "gridwidth": 2,
            "linecolor": "white",
            "showbackground": true,
            "ticks": "",
            "zerolinecolor": "white"
           },
           "yaxis": {
            "backgroundcolor": "#E5ECF6",
            "gridcolor": "white",
            "gridwidth": 2,
            "linecolor": "white",
            "showbackground": true,
            "ticks": "",
            "zerolinecolor": "white"
           },
           "zaxis": {
            "backgroundcolor": "#E5ECF6",
            "gridcolor": "white",
            "gridwidth": 2,
            "linecolor": "white",
            "showbackground": true,
            "ticks": "",
            "zerolinecolor": "white"
           }
          },
          "shapedefaults": {
           "line": {
            "color": "#2a3f5f"
           }
          },
          "ternary": {
           "aaxis": {
            "gridcolor": "white",
            "linecolor": "white",
            "ticks": ""
           },
           "baxis": {
            "gridcolor": "white",
            "linecolor": "white",
            "ticks": ""
           },
           "bgcolor": "#E5ECF6",
           "caxis": {
            "gridcolor": "white",
            "linecolor": "white",
            "ticks": ""
           }
          },
          "title": {
           "x": 0.05
          },
          "xaxis": {
           "automargin": true,
           "gridcolor": "white",
           "linecolor": "white",
           "ticks": "",
           "title": {
            "standoff": 15
           },
           "zerolinecolor": "white",
           "zerolinewidth": 2
          },
          "yaxis": {
           "automargin": true,
           "gridcolor": "white",
           "linecolor": "white",
           "ticks": "",
           "title": {
            "standoff": 15
           },
           "zerolinecolor": "white",
           "zerolinewidth": 2
          }
         }
        },
        "xaxis": {
         "title": {
          "text": "T(C)"
         }
        },
        "yaxis": {
         "title": {
          "text": "P(MPa)"
         }
        }
       }
      }
     },
     "metadata": {},
     "output_type": "display_data"
    }
   ],
   "source": [
    "T_P = np.column_stack((T, P))\n",
    "T_P\n",
    "T_Pdataframe = pd.DataFrame(T_P, columns=['T', 'P'])\n",
    "T_P_poly= poly_reg.transform(T_Pdataframe)\n",
    "\n",
    "for model_set in models:\n",
    "    model = model_set['model']\n",
    "    model_name = model.__class__.__name__\n",
    "# Densities predicted using 400 T and P pairs using polynomial regression and then a contour plot is formed     \n",
    "    if model_name == 'LinearRegression':\n",
    "        #print(model_name)\n",
    "        y_pred_log = model.predict(T_P_poly)\n",
    "   \n",
    "        fig = go.Figure(data =\n",
    "        go.Contour(\n",
    "            z = y_pred_log,\n",
    "            x= T, \n",
    "            y= P))\n",
    "        fig.update_layout(xaxis_title=('T(C)'), yaxis_title=(\"P(MPa)\"), legend_title=\"Density\")\n",
    "        fig.show()"
   ]
  },
  {
   "cell_type": "markdown",
   "metadata": {},
   "source": [
    "## Extraction of Density Equation"
   ]
  },
  {
   "cell_type": "code",
   "execution_count": 23,
   "metadata": {},
   "outputs": [
    {
     "name": "stdout",
     "output_type": "stream",
     "text": [
      "Density = -0.6851016722979796*T +  0.6485469240356023*P + 0.0003265294404838359*T^2 + 0.003082979368124062*T*P -0.020673950790753435*P^2 + 1023.7214032532291\n"
     ]
    }
   ],
   "source": [
    "# Coefficients and Intercepts extracted from the model to form an equation \n",
    "for model_set in models:\n",
    "    model = model_set['model']\n",
    "    model_name = model.__class__.__name__\n",
    "    if model_name == 'LinearRegression':\n",
    "        coef = []\n",
    "        coef = model.coef_\n",
    "        intercept = model.intercept_\n",
    "        #print (coef)\n",
    "        #print (intercept)\n",
    "        print (f\"Density = {coef[0]}*T +  {coef[1]}*P + {coef[2]}*T^2 + {coef[3]}*T*P {coef[4]}*P^2 + {intercept}\")"
   ]
  },
  {
   "cell_type": "code",
   "execution_count": 24,
   "metadata": {},
   "outputs": [],
   "source": [
    "# Densities predicted based on the equation \n",
    "y_eq_pred = []\n",
    "for i in range(len(T_ticks_heatmap)) :\n",
    "    for j in range(len(P_ticks_heatmap)) :\n",
    "        y_equ = coef[0]* T_ticks_heatmap[i] +  coef[1] *P_ticks_heatmap[j]  + coef[2] *T_ticks_heatmap[i]**2 + coef[3] *T_ticks_heatmap[i]*P_ticks_heatmap[j] + coef[4] *P_ticks_heatmap[j]**2 + intercept\n",
    "        y_eq_pred.append(y_equ)"
   ]
  },
  {
   "cell_type": "markdown",
   "metadata": {},
   "source": [
    "## Contour Plot based on the Equation"
   ]
  },
  {
   "cell_type": "markdown",
   "metadata": {},
   "source": [
    "This is the contour plot created based on the density values calculated using the equation extracted to test the equation performance as compared to the model. "
   ]
  },
  {
   "cell_type": "code",
   "execution_count": 25,
   "metadata": {},
   "outputs": [
    {
     "data": {
      "application/vnd.plotly.v1+json": {
       "config": {
        "plotlyServerURL": "https://plot.ly"
       },
       "data": [
        {
         "type": "contour",
         "x": [
          27.2,
          27.2,
          27.2,
          27.2,
          27.2,
          27.2,
          27.2,
          27.2,
          27.2,
          27.2,
          27.2,
          27.2,
          27.2,
          27.2,
          27.2,
          27.2,
          27.2,
          27.2,
          27.2,
          27.2,
          35.5,
          35.5,
          35.5,
          35.5,
          35.5,
          35.5,
          35.5,
          35.5,
          35.5,
          35.5,
          35.5,
          35.5,
          35.5,
          35.5,
          35.5,
          35.5,
          35.5,
          35.5,
          35.5,
          35.5,
          43.9,
          43.9,
          43.9,
          43.9,
          43.9,
          43.9,
          43.9,
          43.9,
          43.9,
          43.9,
          43.9,
          43.9,
          43.9,
          43.9,
          43.9,
          43.9,
          43.9,
          43.9,
          43.9,
          43.9,
          52.2,
          52.2,
          52.2,
          52.2,
          52.2,
          52.2,
          52.2,
          52.2,
          52.2,
          52.2,
          52.2,
          52.2,
          52.2,
          52.2,
          52.2,
          52.2,
          52.2,
          52.2,
          52.2,
          52.2,
          60.6,
          60.6,
          60.6,
          60.6,
          60.6,
          60.6,
          60.6,
          60.6,
          60.6,
          60.6,
          60.6,
          60.6,
          60.6,
          60.6,
          60.6,
          60.6,
          60.6,
          60.6,
          60.6,
          60.6,
          68.9,
          68.9,
          68.9,
          68.9,
          68.9,
          68.9,
          68.9,
          68.9,
          68.9,
          68.9,
          68.9,
          68.9,
          68.9,
          68.9,
          68.9,
          68.9,
          68.9,
          68.9,
          68.9,
          68.9,
          77.3,
          77.3,
          77.3,
          77.3,
          77.3,
          77.3,
          77.3,
          77.3,
          77.3,
          77.3,
          77.3,
          77.3,
          77.3,
          77.3,
          77.3,
          77.3,
          77.3,
          77.3,
          77.3,
          77.3,
          85.6,
          85.6,
          85.6,
          85.6,
          85.6,
          85.6,
          85.6,
          85.6,
          85.6,
          85.6,
          85.6,
          85.6,
          85.6,
          85.6,
          85.6,
          85.6,
          85.6,
          85.6,
          85.6,
          85.6,
          94,
          94,
          94,
          94,
          94,
          94,
          94,
          94,
          94,
          94,
          94,
          94,
          94,
          94,
          94,
          94,
          94,
          94,
          94,
          94,
          102.3,
          102.3,
          102.3,
          102.3,
          102.3,
          102.3,
          102.3,
          102.3,
          102.3,
          102.3,
          102.3,
          102.3,
          102.3,
          102.3,
          102.3,
          102.3,
          102.3,
          102.3,
          102.3,
          102.3,
          110.7,
          110.7,
          110.7,
          110.7,
          110.7,
          110.7,
          110.7,
          110.7,
          110.7,
          110.7,
          110.7,
          110.7,
          110.7,
          110.7,
          110.7,
          110.7,
          110.7,
          110.7,
          110.7,
          110.7,
          119,
          119,
          119,
          119,
          119,
          119,
          119,
          119,
          119,
          119,
          119,
          119,
          119,
          119,
          119,
          119,
          119,
          119,
          119,
          119,
          127.4,
          127.4,
          127.4,
          127.4,
          127.4,
          127.4,
          127.4,
          127.4,
          127.4,
          127.4,
          127.4,
          127.4,
          127.4,
          127.4,
          127.4,
          127.4,
          127.4,
          127.4,
          127.4,
          127.4,
          135.7,
          135.7,
          135.7,
          135.7,
          135.7,
          135.7,
          135.7,
          135.7,
          135.7,
          135.7,
          135.7,
          135.7,
          135.7,
          135.7,
          135.7,
          135.7,
          135.7,
          135.7,
          135.7,
          135.7,
          144.1,
          144.1,
          144.1,
          144.1,
          144.1,
          144.1,
          144.1,
          144.1,
          144.1,
          144.1,
          144.1,
          144.1,
          144.1,
          144.1,
          144.1,
          144.1,
          144.1,
          144.1,
          144.1,
          144.1,
          152.4,
          152.4,
          152.4,
          152.4,
          152.4,
          152.4,
          152.4,
          152.4,
          152.4,
          152.4,
          152.4,
          152.4,
          152.4,
          152.4,
          152.4,
          152.4,
          152.4,
          152.4,
          152.4,
          152.4,
          160.8,
          160.8,
          160.8,
          160.8,
          160.8,
          160.8,
          160.8,
          160.8,
          160.8,
          160.8,
          160.8,
          160.8,
          160.8,
          160.8,
          160.8,
          160.8,
          160.8,
          160.8,
          160.8,
          160.8,
          169.1,
          169.1,
          169.1,
          169.1,
          169.1,
          169.1,
          169.1,
          169.1,
          169.1,
          169.1,
          169.1,
          169.1,
          169.1,
          169.1,
          169.1,
          169.1,
          169.1,
          169.1,
          169.1,
          169.1,
          177.5,
          177.5,
          177.5,
          177.5,
          177.5,
          177.5,
          177.5,
          177.5,
          177.5,
          177.5,
          177.5,
          177.5,
          177.5,
          177.5,
          177.5,
          177.5,
          177.5,
          177.5,
          177.5,
          177.5,
          185.8,
          185.8,
          185.8,
          185.8,
          185.8,
          185.8,
          185.8,
          185.8,
          185.8,
          185.8,
          185.8,
          185.8,
          185.8,
          185.8,
          185.8,
          185.8,
          185.8,
          185.8,
          185.8,
          185.8
         ],
         "y": [
          1.2,
          1.9,
          2.5,
          3.2,
          3.8,
          4.5,
          5.1,
          5.8,
          6.4,
          7.1,
          7.7,
          8.4,
          9,
          9.7,
          10.3,
          11,
          11.6,
          12.3,
          12.9,
          13.6,
          1.2,
          1.9,
          2.5,
          3.2,
          3.8,
          4.5,
          5.1,
          5.8,
          6.4,
          7.1,
          7.7,
          8.4,
          9,
          9.7,
          10.3,
          11,
          11.6,
          12.3,
          12.9,
          13.6,
          1.2,
          1.9,
          2.5,
          3.2,
          3.8,
          4.5,
          5.1,
          5.8,
          6.4,
          7.1,
          7.7,
          8.4,
          9,
          9.7,
          10.3,
          11,
          11.6,
          12.3,
          12.9,
          13.6,
          1.2,
          1.9,
          2.5,
          3.2,
          3.8,
          4.5,
          5.1,
          5.8,
          6.4,
          7.1,
          7.7,
          8.4,
          9,
          9.7,
          10.3,
          11,
          11.6,
          12.3,
          12.9,
          13.6,
          1.2,
          1.9,
          2.5,
          3.2,
          3.8,
          4.5,
          5.1,
          5.8,
          6.4,
          7.1,
          7.7,
          8.4,
          9,
          9.7,
          10.3,
          11,
          11.6,
          12.3,
          12.9,
          13.6,
          1.2,
          1.9,
          2.5,
          3.2,
          3.8,
          4.5,
          5.1,
          5.8,
          6.4,
          7.1,
          7.7,
          8.4,
          9,
          9.7,
          10.3,
          11,
          11.6,
          12.3,
          12.9,
          13.6,
          1.2,
          1.9,
          2.5,
          3.2,
          3.8,
          4.5,
          5.1,
          5.8,
          6.4,
          7.1,
          7.7,
          8.4,
          9,
          9.7,
          10.3,
          11,
          11.6,
          12.3,
          12.9,
          13.6,
          1.2,
          1.9,
          2.5,
          3.2,
          3.8,
          4.5,
          5.1,
          5.8,
          6.4,
          7.1,
          7.7,
          8.4,
          9,
          9.7,
          10.3,
          11,
          11.6,
          12.3,
          12.9,
          13.6,
          1.2,
          1.9,
          2.5,
          3.2,
          3.8,
          4.5,
          5.1,
          5.8,
          6.4,
          7.1,
          7.7,
          8.4,
          9,
          9.7,
          10.3,
          11,
          11.6,
          12.3,
          12.9,
          13.6,
          1.2,
          1.9,
          2.5,
          3.2,
          3.8,
          4.5,
          5.1,
          5.8,
          6.4,
          7.1,
          7.7,
          8.4,
          9,
          9.7,
          10.3,
          11,
          11.6,
          12.3,
          12.9,
          13.6,
          1.2,
          1.9,
          2.5,
          3.2,
          3.8,
          4.5,
          5.1,
          5.8,
          6.4,
          7.1,
          7.7,
          8.4,
          9,
          9.7,
          10.3,
          11,
          11.6,
          12.3,
          12.9,
          13.6,
          1.2,
          1.9,
          2.5,
          3.2,
          3.8,
          4.5,
          5.1,
          5.8,
          6.4,
          7.1,
          7.7,
          8.4,
          9,
          9.7,
          10.3,
          11,
          11.6,
          12.3,
          12.9,
          13.6,
          1.2,
          1.9,
          2.5,
          3.2,
          3.8,
          4.5,
          5.1,
          5.8,
          6.4,
          7.1,
          7.7,
          8.4,
          9,
          9.7,
          10.3,
          11,
          11.6,
          12.3,
          12.9,
          13.6,
          1.2,
          1.9,
          2.5,
          3.2,
          3.8,
          4.5,
          5.1,
          5.8,
          6.4,
          7.1,
          7.7,
          8.4,
          9,
          9.7,
          10.3,
          11,
          11.6,
          12.3,
          12.9,
          13.6,
          1.2,
          1.9,
          2.5,
          3.2,
          3.8,
          4.5,
          5.1,
          5.8,
          6.4,
          7.1,
          7.7,
          8.4,
          9,
          9.7,
          10.3,
          11,
          11.6,
          12.3,
          12.9,
          13.6,
          1.2,
          1.9,
          2.5,
          3.2,
          3.8,
          4.5,
          5.1,
          5.8,
          6.4,
          7.1,
          7.7,
          8.4,
          9,
          9.7,
          10.3,
          11,
          11.6,
          12.3,
          12.9,
          13.6,
          1.2,
          1.9,
          2.5,
          3.2,
          3.8,
          4.5,
          5.1,
          5.8,
          6.4,
          7.1,
          7.7,
          8.4,
          9,
          9.7,
          10.3,
          11,
          11.6,
          12.3,
          12.9,
          13.6,
          1.2,
          1.9,
          2.5,
          3.2,
          3.8,
          4.5,
          5.1,
          5.8,
          6.4,
          7.1,
          7.7,
          8.4,
          9,
          9.7,
          10.3,
          11,
          11.6,
          12.3,
          12.9,
          13.6,
          1.2,
          1.9,
          2.5,
          3.2,
          3.8,
          4.5,
          5.1,
          5.8,
          6.4,
          7.1,
          7.7,
          8.4,
          9,
          9.7,
          10.3,
          11,
          11.6,
          12.3,
          12.9,
          13.6,
          1.2,
          1.9,
          2.5,
          3.2,
          3.8,
          4.5,
          5.1,
          5.8,
          6.4,
          7.1,
          7.7,
          8.4,
          9,
          9.7,
          10.3,
          11,
          11.6,
          12.3,
          12.9,
          13.6
         ],
         "z": [
          1006.1773315742513,
          1006.6451518750293,
          1007.0300150226509,
          1007.4602087329898,
          1007.8128205173778,
          1008.2053876372775,
          1008.5257480584319,
          1008.8806885878925,
          1009.1687976458132,
          1009.4861115848347,
          1009.741969279522,
          1010.0216566281041,
          1010.2452629595579,
          1010.4873237177009,
          1010.678678685921,
          1010.8831128536249,
          1011.0422164586114,
          1011.209024035876,
          1011.335876277629,
          1011.4650572644546,
          1000.6916233548068,
          1001.1773557657136,
          1001.5775721505885,
          1002.0256779710561,
          1002.3936429926973,
          1002.8041222227259,
          1003.1398358811335,
          1003.5126885207229,
          1003.816150815897,
          1004.1513768650472,
          1004.4225877969877,
          1004.7201872556988,
          1004.9591468244057,
          1005.2191196926775,
          1005.4258278981508,
          1005.6481741759835,
          1005.8226310182233,
          1006.0073507056168,
          1006.1495561846231,
          1006.2966492815774,
          995.1856278151595,
          995.689488144751,
          996.1052427456411,
          996.5714764847934,
          996.9549797224499,
          997.3835868711631,
          997.7348387455861,
          998.12581930386,
          998.4448198150494,
          998.7981737828842,
          999.08492293084,
          999.4006503082356,
          999.6551480929579,
          999.9332488799143,
          1000.155495301403,
          1000.3959694979203,
          1000.5859645561754,
          1000.7888121622534,
          1000.946555857275,
          1001.1117768729139,
          989.7904400872059,
          990.3122125269261,
          990.7433203650696,
          991.2274662143507,
          991.6263226892605,
          992.0728419481023,
          992.4394470597787,
          992.8483397281814,
          993.1826934766241,
          993.5539595545877,
          993.8560619397967,
          994.1897014273211,
          994.4595524492967,
          994.7555653463819,
          994.9931650051238,
          995.2515513117698,
          995.4568996072783,
          995.6776593234852,
          995.85075625576,
          996.0338893815276,
          984.3760556473808,
          984.9159560057856,
          985.3626020599444,
          985.86487582791,
          986.2792705188352,
          986.7439176963617,
          987.1260610240533,
          987.5530816111406,
          987.9029735755986,
          988.2923675722468,
          988.6100081734712,
          988.9617755796802,
          989.2471648176711,
          989.5613056334408,
          989.8144435081981,
          990.0909577335287,
          990.3118442450525,
          990.5507318799439,
          990.7393670282341,
          990.9406280726864,
          979.0713884109182,
          979.6292008794518,
          980.0912001708638,
          980.6113860489583,
          981.0411339771367,
          981.523693264792,
          981.9211898297368,
          982.366122526953,
          982.7313677286642,
          983.1386738354411,
          983.4716676739189,
          983.8413471902566,
          984.1420896655007,
          984.4741425913993,
          984.7426337034099,
          985.0370600388693,
          985.2732997876462,
          985.5300995326666,
          985.73408791821,
          985.9532610727911,
          973.7486150709152,
          974.3245554581334,
          974.8020929655607,
          975.3404067623397,
          975.7856929065335,
          976.2863801128734,
          976.6994148938336,
          977.1624755097342,
          977.5432589274609,
          977.9686929529224,
          978.3172250074155,
          978.7050324424378,
          979.0213131336973,
          979.3714939782805,
          979.6555233063063,
          979.9680775604503,
          980.2198555252427,
          980.4947831889475,
          980.7143097905063,
          980.9516108637719,
          968.5344683259435,
          969.1283208232904,
          969.621211567971,
          970.1774374748788,
          970.6380768563259,
          971.1566761727946,
          971.5850641910081,
          972.0660369170375,
          972.4621735720174,
          972.9055197076077,
          973.269404999354,
          973.6751245445051,
          974.006758473018,
          974.3748514277298,
          974.674233993009,
          975.0047003572818,
          975.2718315593274,
          975.5646713331611,
          975.799551171973,
          976.0547643553675,
          963.3033060857626,
          963.9152865017942,
          964.4237154624902,
          964.9980692880825,
          965.474246885545,
          966.0109741206982,
          966.454900354927,
          966.954000999641,
          967.3656758706363,
          967.8271499249112,
          968.2065734326728,
          968.6304208965084,
          968.9775930410366,
          969.3638139144331,
          969.6787346957276,
          970.027328978685,
          970.3099983967459,
          970.6209660892641,
          970.8713841440915,
          971.1447252461704,
          958.1796798322819,
          958.8095723584422,
          959.3333545563914,
          959.9256204921127,
          960.4171513268283,
          960.9717906721103,
          961.4310701435924,
          961.9480828984352,
          962.3751110066837,
          962.8544971710874,
          963.2492739161023,
          963.6910334900667,
          964.0535588718482,
          964.4576918553735,
          964.7879658739213,
          965.1544722670073,
          965.4524949223215,
          965.7813747249686,
          966.0471460170492,
          966.338399229257,
          953.0401286919232,
          953.6881491367681,
          954.2274695507326,
          954.8378634051385,
          955.3449324558694,
          955.917699719836,
          956.3925174073335,
          956.9276580808609,
          957.3702244051246,
          957.8677384882129,
          958.2780534492432,
          958.7379409418922,
          959.1160045396889,
          959.5382654418988,
          959.884077676462,
          960.2687119882327,
          960.5822728595622,
          960.9292805808938,
          961.2105900889898,
          961.5199712198821,
          948.0070229299333,
          948.6729554849071,
          949.2276291361248,
          949.8559351006594,
          950.3783573886436,
          950.969036762739,
          951.4592076874898,
          952.012260471146,
          952.470180032663,
          952.98560622588,
          953.4112744241636,
          953.8890740269414,
          954.2824908619914,
          954.7226638743301,
          955.0838293461466,
          955.4863757680461,
          955.8152898766289,
          956.1802097080891,
          956.4768724534384,
          956.8041656944596,
          942.9590828893968,
          943.6431433630551,
          944.2133552302882,
          944.8597891135074,
          945.397749617507,
          946.0065569102869,
          946.512266051053,
          947.0834467533938,
          947.5569045309262,
          948.0904586428278,
          948.5316650571267,
          949.0275925785891,
          949.4365476296545,
          949.8948485606777,
          950.2715522485095,
          950.6922265890935,
          951.0366789136916,
          951.4197266638366,
          951.7319276252011,
          952.0773487849069,
          938.0164976188979,
          938.718470202685,
          939.3040353071714,
          939.9683813005194,
          940.5216950417722,
          941.148414444681,
          941.6694768227002,
          942.2585696351698,
          942.7473806499555,
          943.2988468719859,
          943.755406523538,
          944.2692461551293,
          944.6935544434479,
          945.1697674845999,
          945.5618244096848,
          946.0004108603978,
          946.3602164222492,
          946.7611762825229,
          947.0887304811407,
          947.4520637509753,
          933.0601686781835,
          933.7802691806552,
          934.3813725011569,
          935.0638464131894,
          935.6326983704577,
          936.2775456920509,
          936.8141462860856,
          937.4213670172397,
          937.9257162480408,
          938.4953103887558,
          938.9674082563232,
          939.499375806599,
          939.9392223109329,
          940.4335632707696,
          940.8411584118699,
          941.2978727812674,
          941.6732165591341,
          942.0923043380924,
          942.4353967527255,
          942.8168579412447,
          928.2081038991755,
          928.9461165117759,
          929.562573069531,
          930.2629590916922,
          930.8471642862137,
          931.5099237179359,
          932.0618775492237,
          932.6870103905067,
          933.206712858561,
          933.7942191094048,
          934.2816702142255,
          934.8315498746301,
          935.2867496162173,
          935.7990026861827,
          936.2219510645363,
          936.6965775440625,
          937.0872745591826,
          937.5242744482697,
          937.8827201001561,
          938.282093398804,
          923.3433860582833,
          924.0995265895683,
          924.7315213633386,
          925.4500353041846,
          926.0497787147214,
          926.730666065128,
          927.2981581124312,
          927.9414188723988,
          928.4766595564685,
          929.0822937259968,
          929.5852830468328,
          930.153290625922,
          930.6240285835245,
          931.1544095721745,
          931.5928961665435,
          932.0856505647542,
          932.4918857958896,
          932.9470136036613,
          933.320997471563,
          933.7384986888956,
          918.5818417707662,
          919.35589441218,
          920.0032424232037,
          920.7396684741783,
          921.3547651219684,
          922.0535645825039,
          922.6364098670604,
          923.2975827371566,
          923.8481766584796,
          924.4717229381367,
          924.9900654962261,
          925.5759851854441,
          926.0620763802998,
          926.6103694790786,
          927.0642093107008,
          927.5748758190405,
          927.996464287429,
          928.4695042053295,
          928.8588413104845,
          929.2942546379459,
          913.8087350296961,
          914.6009155897945,
          915.2638018168335,
          916.0183557864927,
          916.6489906502981,
          917.3659180295182,
          917.96430153009,
          918.6436023188709,
          919.2097344562092,
          919.8514086545508,
          920.3852894286556,
          920.9893370365581,
          921.4909664474292,
          922.0573874648926,
          922.5267655125301,
          923.0555599395543,
          923.4926866239582,
          923.9838544605433,
          924.3887297817137,
          924.8422710278595,
          909.13771123367,
          909.9478039038971,
          910.6260433681894,
          911.3985094479774,
          912.044497549036,
          912.7793370383849,
          913.39307377621,
          914.0902866751197,
          914.6717720497112,
          915.3313583581818,
          915.8805923695397,
          916.5025520875711,
          917.0195347356954,
          917.6038678632875,
          918.0885991481783,
          918.6353056853313,
          919.0877856069885,
          919.5968655537024,
          920.0170941121261,
          920.4885474684007
         ]
        }
       ],
       "layout": {
        "legend": {
         "title": {
          "text": "Density"
         }
        },
        "template": {
         "data": {
          "bar": [
           {
            "error_x": {
             "color": "#2a3f5f"
            },
            "error_y": {
             "color": "#2a3f5f"
            },
            "marker": {
             "line": {
              "color": "#E5ECF6",
              "width": 0.5
             },
             "pattern": {
              "fillmode": "overlay",
              "size": 10,
              "solidity": 0.2
             }
            },
            "type": "bar"
           }
          ],
          "barpolar": [
           {
            "marker": {
             "line": {
              "color": "#E5ECF6",
              "width": 0.5
             },
             "pattern": {
              "fillmode": "overlay",
              "size": 10,
              "solidity": 0.2
             }
            },
            "type": "barpolar"
           }
          ],
          "carpet": [
           {
            "aaxis": {
             "endlinecolor": "#2a3f5f",
             "gridcolor": "white",
             "linecolor": "white",
             "minorgridcolor": "white",
             "startlinecolor": "#2a3f5f"
            },
            "baxis": {
             "endlinecolor": "#2a3f5f",
             "gridcolor": "white",
             "linecolor": "white",
             "minorgridcolor": "white",
             "startlinecolor": "#2a3f5f"
            },
            "type": "carpet"
           }
          ],
          "choropleth": [
           {
            "colorbar": {
             "outlinewidth": 0,
             "ticks": ""
            },
            "type": "choropleth"
           }
          ],
          "contour": [
           {
            "colorbar": {
             "outlinewidth": 0,
             "ticks": ""
            },
            "colorscale": [
             [
              0,
              "#0d0887"
             ],
             [
              0.1111111111111111,
              "#46039f"
             ],
             [
              0.2222222222222222,
              "#7201a8"
             ],
             [
              0.3333333333333333,
              "#9c179e"
             ],
             [
              0.4444444444444444,
              "#bd3786"
             ],
             [
              0.5555555555555556,
              "#d8576b"
             ],
             [
              0.6666666666666666,
              "#ed7953"
             ],
             [
              0.7777777777777778,
              "#fb9f3a"
             ],
             [
              0.8888888888888888,
              "#fdca26"
             ],
             [
              1,
              "#f0f921"
             ]
            ],
            "type": "contour"
           }
          ],
          "contourcarpet": [
           {
            "colorbar": {
             "outlinewidth": 0,
             "ticks": ""
            },
            "type": "contourcarpet"
           }
          ],
          "heatmap": [
           {
            "colorbar": {
             "outlinewidth": 0,
             "ticks": ""
            },
            "colorscale": [
             [
              0,
              "#0d0887"
             ],
             [
              0.1111111111111111,
              "#46039f"
             ],
             [
              0.2222222222222222,
              "#7201a8"
             ],
             [
              0.3333333333333333,
              "#9c179e"
             ],
             [
              0.4444444444444444,
              "#bd3786"
             ],
             [
              0.5555555555555556,
              "#d8576b"
             ],
             [
              0.6666666666666666,
              "#ed7953"
             ],
             [
              0.7777777777777778,
              "#fb9f3a"
             ],
             [
              0.8888888888888888,
              "#fdca26"
             ],
             [
              1,
              "#f0f921"
             ]
            ],
            "type": "heatmap"
           }
          ],
          "heatmapgl": [
           {
            "colorbar": {
             "outlinewidth": 0,
             "ticks": ""
            },
            "colorscale": [
             [
              0,
              "#0d0887"
             ],
             [
              0.1111111111111111,
              "#46039f"
             ],
             [
              0.2222222222222222,
              "#7201a8"
             ],
             [
              0.3333333333333333,
              "#9c179e"
             ],
             [
              0.4444444444444444,
              "#bd3786"
             ],
             [
              0.5555555555555556,
              "#d8576b"
             ],
             [
              0.6666666666666666,
              "#ed7953"
             ],
             [
              0.7777777777777778,
              "#fb9f3a"
             ],
             [
              0.8888888888888888,
              "#fdca26"
             ],
             [
              1,
              "#f0f921"
             ]
            ],
            "type": "heatmapgl"
           }
          ],
          "histogram": [
           {
            "marker": {
             "pattern": {
              "fillmode": "overlay",
              "size": 10,
              "solidity": 0.2
             }
            },
            "type": "histogram"
           }
          ],
          "histogram2d": [
           {
            "colorbar": {
             "outlinewidth": 0,
             "ticks": ""
            },
            "colorscale": [
             [
              0,
              "#0d0887"
             ],
             [
              0.1111111111111111,
              "#46039f"
             ],
             [
              0.2222222222222222,
              "#7201a8"
             ],
             [
              0.3333333333333333,
              "#9c179e"
             ],
             [
              0.4444444444444444,
              "#bd3786"
             ],
             [
              0.5555555555555556,
              "#d8576b"
             ],
             [
              0.6666666666666666,
              "#ed7953"
             ],
             [
              0.7777777777777778,
              "#fb9f3a"
             ],
             [
              0.8888888888888888,
              "#fdca26"
             ],
             [
              1,
              "#f0f921"
             ]
            ],
            "type": "histogram2d"
           }
          ],
          "histogram2dcontour": [
           {
            "colorbar": {
             "outlinewidth": 0,
             "ticks": ""
            },
            "colorscale": [
             [
              0,
              "#0d0887"
             ],
             [
              0.1111111111111111,
              "#46039f"
             ],
             [
              0.2222222222222222,
              "#7201a8"
             ],
             [
              0.3333333333333333,
              "#9c179e"
             ],
             [
              0.4444444444444444,
              "#bd3786"
             ],
             [
              0.5555555555555556,
              "#d8576b"
             ],
             [
              0.6666666666666666,
              "#ed7953"
             ],
             [
              0.7777777777777778,
              "#fb9f3a"
             ],
             [
              0.8888888888888888,
              "#fdca26"
             ],
             [
              1,
              "#f0f921"
             ]
            ],
            "type": "histogram2dcontour"
           }
          ],
          "mesh3d": [
           {
            "colorbar": {
             "outlinewidth": 0,
             "ticks": ""
            },
            "type": "mesh3d"
           }
          ],
          "parcoords": [
           {
            "line": {
             "colorbar": {
              "outlinewidth": 0,
              "ticks": ""
             }
            },
            "type": "parcoords"
           }
          ],
          "pie": [
           {
            "automargin": true,
            "type": "pie"
           }
          ],
          "scatter": [
           {
            "marker": {
             "colorbar": {
              "outlinewidth": 0,
              "ticks": ""
             }
            },
            "type": "scatter"
           }
          ],
          "scatter3d": [
           {
            "line": {
             "colorbar": {
              "outlinewidth": 0,
              "ticks": ""
             }
            },
            "marker": {
             "colorbar": {
              "outlinewidth": 0,
              "ticks": ""
             }
            },
            "type": "scatter3d"
           }
          ],
          "scattercarpet": [
           {
            "marker": {
             "colorbar": {
              "outlinewidth": 0,
              "ticks": ""
             }
            },
            "type": "scattercarpet"
           }
          ],
          "scattergeo": [
           {
            "marker": {
             "colorbar": {
              "outlinewidth": 0,
              "ticks": ""
             }
            },
            "type": "scattergeo"
           }
          ],
          "scattergl": [
           {
            "marker": {
             "colorbar": {
              "outlinewidth": 0,
              "ticks": ""
             }
            },
            "type": "scattergl"
           }
          ],
          "scattermapbox": [
           {
            "marker": {
             "colorbar": {
              "outlinewidth": 0,
              "ticks": ""
             }
            },
            "type": "scattermapbox"
           }
          ],
          "scatterpolar": [
           {
            "marker": {
             "colorbar": {
              "outlinewidth": 0,
              "ticks": ""
             }
            },
            "type": "scatterpolar"
           }
          ],
          "scatterpolargl": [
           {
            "marker": {
             "colorbar": {
              "outlinewidth": 0,
              "ticks": ""
             }
            },
            "type": "scatterpolargl"
           }
          ],
          "scatterternary": [
           {
            "marker": {
             "colorbar": {
              "outlinewidth": 0,
              "ticks": ""
             }
            },
            "type": "scatterternary"
           }
          ],
          "surface": [
           {
            "colorbar": {
             "outlinewidth": 0,
             "ticks": ""
            },
            "colorscale": [
             [
              0,
              "#0d0887"
             ],
             [
              0.1111111111111111,
              "#46039f"
             ],
             [
              0.2222222222222222,
              "#7201a8"
             ],
             [
              0.3333333333333333,
              "#9c179e"
             ],
             [
              0.4444444444444444,
              "#bd3786"
             ],
             [
              0.5555555555555556,
              "#d8576b"
             ],
             [
              0.6666666666666666,
              "#ed7953"
             ],
             [
              0.7777777777777778,
              "#fb9f3a"
             ],
             [
              0.8888888888888888,
              "#fdca26"
             ],
             [
              1,
              "#f0f921"
             ]
            ],
            "type": "surface"
           }
          ],
          "table": [
           {
            "cells": {
             "fill": {
              "color": "#EBF0F8"
             },
             "line": {
              "color": "white"
             }
            },
            "header": {
             "fill": {
              "color": "#C8D4E3"
             },
             "line": {
              "color": "white"
             }
            },
            "type": "table"
           }
          ]
         },
         "layout": {
          "annotationdefaults": {
           "arrowcolor": "#2a3f5f",
           "arrowhead": 0,
           "arrowwidth": 1
          },
          "autotypenumbers": "strict",
          "coloraxis": {
           "colorbar": {
            "outlinewidth": 0,
            "ticks": ""
           }
          },
          "colorscale": {
           "diverging": [
            [
             0,
             "#8e0152"
            ],
            [
             0.1,
             "#c51b7d"
            ],
            [
             0.2,
             "#de77ae"
            ],
            [
             0.3,
             "#f1b6da"
            ],
            [
             0.4,
             "#fde0ef"
            ],
            [
             0.5,
             "#f7f7f7"
            ],
            [
             0.6,
             "#e6f5d0"
            ],
            [
             0.7,
             "#b8e186"
            ],
            [
             0.8,
             "#7fbc41"
            ],
            [
             0.9,
             "#4d9221"
            ],
            [
             1,
             "#276419"
            ]
           ],
           "sequential": [
            [
             0,
             "#0d0887"
            ],
            [
             0.1111111111111111,
             "#46039f"
            ],
            [
             0.2222222222222222,
             "#7201a8"
            ],
            [
             0.3333333333333333,
             "#9c179e"
            ],
            [
             0.4444444444444444,
             "#bd3786"
            ],
            [
             0.5555555555555556,
             "#d8576b"
            ],
            [
             0.6666666666666666,
             "#ed7953"
            ],
            [
             0.7777777777777778,
             "#fb9f3a"
            ],
            [
             0.8888888888888888,
             "#fdca26"
            ],
            [
             1,
             "#f0f921"
            ]
           ],
           "sequentialminus": [
            [
             0,
             "#0d0887"
            ],
            [
             0.1111111111111111,
             "#46039f"
            ],
            [
             0.2222222222222222,
             "#7201a8"
            ],
            [
             0.3333333333333333,
             "#9c179e"
            ],
            [
             0.4444444444444444,
             "#bd3786"
            ],
            [
             0.5555555555555556,
             "#d8576b"
            ],
            [
             0.6666666666666666,
             "#ed7953"
            ],
            [
             0.7777777777777778,
             "#fb9f3a"
            ],
            [
             0.8888888888888888,
             "#fdca26"
            ],
            [
             1,
             "#f0f921"
            ]
           ]
          },
          "colorway": [
           "#636efa",
           "#EF553B",
           "#00cc96",
           "#ab63fa",
           "#FFA15A",
           "#19d3f3",
           "#FF6692",
           "#B6E880",
           "#FF97FF",
           "#FECB52"
          ],
          "font": {
           "color": "#2a3f5f"
          },
          "geo": {
           "bgcolor": "white",
           "lakecolor": "white",
           "landcolor": "#E5ECF6",
           "showlakes": true,
           "showland": true,
           "subunitcolor": "white"
          },
          "hoverlabel": {
           "align": "left"
          },
          "hovermode": "closest",
          "mapbox": {
           "style": "light"
          },
          "paper_bgcolor": "white",
          "plot_bgcolor": "#E5ECF6",
          "polar": {
           "angularaxis": {
            "gridcolor": "white",
            "linecolor": "white",
            "ticks": ""
           },
           "bgcolor": "#E5ECF6",
           "radialaxis": {
            "gridcolor": "white",
            "linecolor": "white",
            "ticks": ""
           }
          },
          "scene": {
           "xaxis": {
            "backgroundcolor": "#E5ECF6",
            "gridcolor": "white",
            "gridwidth": 2,
            "linecolor": "white",
            "showbackground": true,
            "ticks": "",
            "zerolinecolor": "white"
           },
           "yaxis": {
            "backgroundcolor": "#E5ECF6",
            "gridcolor": "white",
            "gridwidth": 2,
            "linecolor": "white",
            "showbackground": true,
            "ticks": "",
            "zerolinecolor": "white"
           },
           "zaxis": {
            "backgroundcolor": "#E5ECF6",
            "gridcolor": "white",
            "gridwidth": 2,
            "linecolor": "white",
            "showbackground": true,
            "ticks": "",
            "zerolinecolor": "white"
           }
          },
          "shapedefaults": {
           "line": {
            "color": "#2a3f5f"
           }
          },
          "ternary": {
           "aaxis": {
            "gridcolor": "white",
            "linecolor": "white",
            "ticks": ""
           },
           "baxis": {
            "gridcolor": "white",
            "linecolor": "white",
            "ticks": ""
           },
           "bgcolor": "#E5ECF6",
           "caxis": {
            "gridcolor": "white",
            "linecolor": "white",
            "ticks": ""
           }
          },
          "title": {
           "x": 0.05
          },
          "xaxis": {
           "automargin": true,
           "gridcolor": "white",
           "linecolor": "white",
           "ticks": "",
           "title": {
            "standoff": 15
           },
           "zerolinecolor": "white",
           "zerolinewidth": 2
          },
          "yaxis": {
           "automargin": true,
           "gridcolor": "white",
           "linecolor": "white",
           "ticks": "",
           "title": {
            "standoff": 15
           },
           "zerolinecolor": "white",
           "zerolinewidth": 2
          }
         }
        },
        "title": {
         "text": "Density contour map"
        },
        "xaxis": {
         "title": {
          "text": "T(C)"
         }
        },
        "yaxis": {
         "title": {
          "text": "P(MPa)"
         }
        }
       }
      }
     },
     "metadata": {},
     "output_type": "display_data"
    }
   ],
   "source": [
    "fig = go.Figure(data =\n",
    "    go.Contour(\n",
    "        z = y_eq_pred,\n",
    "        x= T, \n",
    "        y= P\n",
    "))\n",
    "fig.update_layout(title=\"Density contour map\", xaxis_title=('T(C)'), yaxis_title=(\"P(MPa)\"), legend_title=\"Density\")\n",
    "fig.show()"
   ]
  },
  {
   "cell_type": "code",
   "execution_count": null,
   "metadata": {},
   "outputs": [],
   "source": []
  }
 ],
 "metadata": {
  "interpreter": {
   "hash": "11938c6bc6919ae2720b4d5011047913343b08a43b18698fd82dedb0d4417594"
  },
  "kernelspec": {
   "display_name": "Python 3.9.7 64-bit",
   "language": "python",
   "name": "python3"
  },
  "language_info": {
   "codemirror_mode": {
    "name": "ipython",
    "version": 3
   },
   "file_extension": ".py",
   "mimetype": "text/x-python",
   "name": "python",
   "nbconvert_exporter": "python",
   "pygments_lexer": "ipython3",
   "version": "3.9.7"
  }
 },
 "nbformat": 4,
 "nbformat_minor": 4
}
