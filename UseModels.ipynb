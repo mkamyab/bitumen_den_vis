{
 "cells": [
  {
   "cell_type": "code",
   "execution_count": 4,
   "metadata": {
    "collapsed": true
   },
   "outputs": [],
   "source": [
    "import pickle\n",
    "density_model = pickle.load(open('DensityModel.pickle', 'rb'))\n",
    "viscosity_model = pickle.load(open('ViscosityModel_T_and_P_Features.pickle', 'rb'))"
   ]
  },
  {
   "cell_type": "code",
   "execution_count": 8,
   "metadata": {},
   "outputs": [
    {
     "name": "stdout",
     "output_type": "stream",
     "text": [
      "Density for T=102C & P=5MPa:  [ 964.76] kg/m^3\n",
      "Viscosity for T=102C & P=5MPa:  [ 237.] mPa*sec\n"
     ]
    }
   ],
   "source": [
    "print('Density for T=102C & P=5MPa: ', density_model.predict([[102, 5]]), 'kg/m^3')\n",
    "print('Viscosity for T=102C & P=5MPa: ', viscosity_model.predict([[102, 5]]), 'mPa*sec')"
   ]
  }
 ],
 "metadata": {
  "kernelspec": {
   "display_name": "Python 3",
   "language": "python",
   "name": "python3"
  },
  "language_info": {
   "codemirror_mode": {
    "name": "ipython",
    "version": 3
   },
   "file_extension": ".py",
   "mimetype": "text/x-python",
   "name": "python",
   "nbconvert_exporter": "python",
   "pygments_lexer": "ipython3",
   "version": "3.5.1"
  }
 },
 "nbformat": 4,
 "nbformat_minor": 2
}
